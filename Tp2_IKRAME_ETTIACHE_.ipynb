{
  "nbformat": 4,
  "nbformat_minor": 0,
  "metadata": {
    "colab": {
      "name": "Tp2 IKRAME ETTIACHE .ipynb",
      "provenance": [],
      "authorship_tag": "ABX9TyPpJtViJ0TRjcT/BiU09L7j",
      "include_colab_link": true
    },
    "kernelspec": {
      "name": "python3",
      "display_name": "Python 3"
    },
    "language_info": {
      "name": "python"
    }
  },
  "cells": [
    {
      "cell_type": "markdown",
      "metadata": {
        "id": "view-in-github",
        "colab_type": "text"
      },
      "source": [
        "<a href=\"https://colab.research.google.com/github/Ikramettiache/Tp-TextMining/blob/main/Tp2_IKRAME_ETTIACHE_.ipynb\" target=\"_parent\"><img src=\"https://colab.research.google.com/assets/colab-badge.svg\" alt=\"Open In Colab\"/></a>"
      ]
    },
    {
      "cell_type": "markdown",
      "metadata": {
        "id": "LnaKkR9qHyez"
      },
      "source": [
        "# TP2 – Fouille de texte - Ikrame Ettiache\n",
        "\n",
        "\n",
        "**Manipuler du texte :**\n",
        "\n",
        "\n",
        "Considérer le texte suivant :\n",
        "\n",
        "« UK (23 Apr 2020): Social distancing does not directly tackle the coronavirus but it keeps it \n",
        "away from the public and buys time to develop other methods of tackling the virus, as \n",
        "indicated by the National Health Service boss James Brown. Slowing down the transmission \n",
        "rate is a very important part of flattening the curve and ensuring the NHS isn't overwhelmed \n",
        "at any one point. »"
      ]
    },
    {
      "cell_type": "code",
      "source": [
        "import nltk\n",
        "import matplotlib\n",
        "from collections import Counter\n",
        "import re"
      ],
      "metadata": {
        "id": "Ylke3opVpJXb"
      },
      "execution_count": null,
      "outputs": []
    },
    {
      "cell_type": "markdown",
      "metadata": {
        "id": "ekEuUZQgf3LM"
      },
      "source": [
        "#### 1- Initialiser une variable text1 avec le texte ci-dessus. Combien de caractères dans text1 ? combien de mots ?"
      ]
    },
    {
      "cell_type": "code",
      "source": [
        "#Initialisation text1 \n",
        "text1 = \"UK (23 Apr 2020):Social distancing does not directly tackle the coronavirus but it keeps it away from the public and buys time to develop other methods of tackling the virus, as indicated by the National Health Service boss James Brown.\\\n",
        " Slowing down the transmission rate is a very important part of flattening the curve and ensuring the NHS isn't overwhelmed at any one point.\"\n",
        "#Nombre de caractéres \n",
        "print('Nombre de caractéres dans text1 = ',Counter(text1))\n",
        "#print('Nombre de caractéres dans text1',count(text1))\n",
        "print('Nombre de mots dans text1 = ',len(text1.split(' ')), 'mots')\n",
        "print('La longueur de text1 = ',len(text1))\n",
        "fdist2 = nltk.FreqDist(text1.split(' '))\n",
        "# Cette courbe nous montre le nombre de fois les mots les plus fréquents sont utilisés.\n",
        "fdist2.plot(50, cumulative=True)"
      ],
      "metadata": {
        "colab": {
          "base_uri": "https://localhost:8080/",
          "height": 408
        },
        "id": "MoeXCa7xgwqS",
        "outputId": "818bc5cd-d09c-4eb3-f64d-3f2343e5f824"
      },
      "execution_count": null,
      "outputs": [
        {
          "output_type": "stream",
          "name": "stdout",
          "text": [
            "Nombre de caractéres dans text1 =  Counter({' ': 63, 't': 32, 'e': 31, 'i': 24, 'a': 23, 'n': 23, 'o': 22, 'r': 17, 's': 17, 'l': 11, 'd': 11, 'h': 11, 'c': 10, 'p': 7, 'v': 7, 'u': 7, 'm': 7, 'y': 6, 'g': 5, 'b': 5, 'w': 5, 'S': 4, 'f': 4, '2': 3, 'k': 3, '0': 2, 'N': 2, 'H': 2, '.': 2, 'U': 1, 'K': 1, '(': 1, '3': 1, 'A': 1, ')': 1, ':': 1, ',': 1, 'J': 1, 'B': 1, \"'\": 1})\n",
            "Nombre de mots dans text1 =  64 mots\n",
            "La longueur de text1 =  377\n"
          ]
        },
        {
          "output_type": "display_data",
          "data": {
            "image/png": "[encoded data removed]",
            "text/plain": [
              "<Figure size 432x288 with 1 Axes>"
            ]
          },
          "metadata": {
            "needs_background": "light"
          }
        }
      ]
    },
    {
      "cell_type": "markdown",
      "metadata": {
        "id": "nGoq8YoUunRi"
      },
      "source": [
        "#### 2 - Chercher les mots de longueur > 3, les mots qui commencent par une majuscule, les mots qui se terminent avec ‘s’"
      ]
    },
    {
      "cell_type": "code",
      "source": [
        "#On peut utiliser -1 comme on peut utiliser token.endswith('s')\n",
        "print(sorted([token for token in set(text1.split(' ')) if len(token) > 3]))\n",
        "print(sorted([token for token in set(text1.split(' ')) if len(token) > 3 and token[0].istitle() and token[-1]=='s']))\n",
        "print(sorted([token for token in set(text1.split(' ')) if token[0].istitle()]))"
      ],
      "metadata": {
        "colab": {
          "base_uri": "https://localhost:8080/"
        },
        "id": "3FrKgvQ0qiuZ",
        "outputId": "5a428bfb-f18c-48e2-e887-3366752b33a8"
      },
      "execution_count": null,
      "outputs": [
        {
          "output_type": "stream",
          "name": "stdout",
          "text": [
            "['2020):Social', 'Brown.', 'Health', 'James', 'National', 'Service', 'Slowing', 'away', 'boss', 'buys', 'coronavirus', 'curve', 'develop', 'directly', 'distancing', 'does', 'down', 'ensuring', 'flattening', 'from', 'important', 'indicated', \"isn't\", 'keeps', 'methods', 'other', 'overwhelmed', 'part', 'point.', 'public', 'rate', 'tackle', 'tackling', 'time', 'transmission', 'very', 'virus,']\n",
            "['James']\n",
            "['Apr', 'Brown.', 'Health', 'James', 'NHS', 'National', 'Service', 'Slowing', 'UK']\n"
          ]
        }
      ]
    },
    {
      "cell_type": "markdown",
      "source": [
        "#### 3- Combien de mots uniques existent dans le texte. Afficher l’ensemble de ces mots.\n"
      ],
      "metadata": {
        "id": "zHR5i6a2r5Qn"
      }
    },
    {
      "cell_type": "code",
      "source": [
        "# On utlise set qui affiche des valeurs uniques\n",
        "len(set(text1.split(' ')))"
      ],
      "metadata": {
        "colab": {
          "base_uri": "https://localhost:8080/"
        },
        "id": "cr7dnn8DqPav",
        "outputId": "dd96f385-f493-4cd8-de64-3784879084bf"
      },
      "execution_count": null,
      "outputs": [
        {
          "output_type": "execute_result",
          "data": {
            "text/plain": [
              "55"
            ]
          },
          "metadata": {},
          "execution_count": 58
        }
      ]
    },
    {
      "cell_type": "markdown",
      "source": [
        "#### 4- Compter les mots uniques sans prendre en compte les caractères majuscules. \n",
        "#### Afficher cet ensemble"
      ],
      "metadata": {
        "id": "9q5dHosDsa_U"
      }
    },
    {
      "cell_type": "code",
      "source": [
        "print('taille des mots uniques',len([w for w in set(text1.lower())]))\n",
        "set(text1.lower())"
      ],
      "metadata": {
        "id": "msgZe4dksi44"
      },
      "execution_count": null,
      "outputs": []
    },
    {
      "cell_type": "code",
      "source": [
        "print('Taille des mots uniques sans prendre en compte les majuscules ',len(set(text1.lower().split(' '))))"
      ],
      "metadata": {
        "colab": {
          "base_uri": "https://localhost:8080/"
        },
        "id": "xlfSs7NgXnck",
        "outputId": "f939d7a7-4987-4767-c4b4-3f95d4386ae4"
      },
      "execution_count": null,
      "outputs": [
        {
          "output_type": "stream",
          "name": "stdout",
          "text": [
            "Taille des mots uniques sans prendre en compte les majuscules  55\n"
          ]
        }
      ]
    },
    {
      "cell_type": "markdown",
      "metadata": {
        "id": "FejbQGrct4CD"
      },
      "source": [
        "\n",
        "\n",
        "**Exercice 2 :**\n",
        "\n",
        "Considérer le texte suivant :\n",
        "\n",
        "«  #OpenQuestions for @You_Ask Start asking your questions now for tomorrow’s LIVE \n",
        "Q&A on careers you can do without going to university: http://t.co/rJd5UxKI4n Write to us \n",
        "contact@careers.tt #CareersQA - Guardian Careers ( @GuardianCareers ) August 27, 2013 »"
      ]
    },
    {
      "cell_type": "markdown",
      "source": [
        "#### 5 - Initialiser une variable text2 avec le texte du tweet bruité (contenant des ‘@’, ‘#’, ‘_’, ‘/’, etc)."
      ],
      "metadata": {
        "id": "3ZC_o8skub9X"
      }
    },
    {
      "cell_type": "code",
      "source": [
        "text2=\"#OpenQuestions for @You_Ask Start asking your questions now for tomorrow's LIVE Q&A on careers you can do without going to university: http://t.co/rJd5UxKI4n Write to us contact@careers.tt #CareersQA - Guardian Careers ( @GuardianCareers ) August 27, 2013\"\n",
        "text2"
      ],
      "metadata": {
        "colab": {
          "base_uri": "https://localhost:8080/",
          "height": 54
        },
        "id": "dwpMf7IzubWK",
        "outputId": "e3d57328-d372-4a41-fe43-4a2cc076264f"
      },
      "execution_count": null,
      "outputs": [
        {
          "output_type": "execute_result",
          "data": {
            "application/vnd.google.colaboratory.intrinsic+json": {
              "type": "string"
            },
            "text/plain": [
              "\"#OpenQuestions for @You_Ask Start asking your questions now for tomorrow's LIVE Q&A on careers you can do without going to university: http://t.co/rJd5UxKI4n Write to us contact@careers.tt #CareersQA - Guardian Careers ( @GuardianCareers ) August 27, 2013\""
            ]
          },
          "metadata": {},
          "execution_count": 50
        }
      ]
    },
    {
      "cell_type": "markdown",
      "source": [
        "#### 6- Trouver les hashtags (#xxx) dans le texte. Trouver les callouts (@xxx)."
      ],
      "metadata": {
        "id": "Z5pXOCxuu0Ln"
      }
    },
    {
      "cell_type": "code",
      "source": [
        "for mot in text2.split(' '):\n",
        "  if '#' in mot:\n",
        "    print(mot)\n",
        "\n",
        "for mot in text2.split(' '):\n",
        "  if '@' in mot:\n",
        "    print(mot)"
      ],
      "metadata": {
        "colab": {
          "base_uri": "https://localhost:8080/"
        },
        "id": "9bDelBE36Jag",
        "outputId": "e8cdb993-aaf0-465c-9c30-6d4392c689e8"
      },
      "execution_count": null,
      "outputs": [
        {
          "output_type": "stream",
          "name": "stdout",
          "text": [
            "#OpenQuestions\n",
            "#CareersQA\n",
            "@You_Ask\n",
            "contact@careers.tt\n",
            "@GuardianCareers\n"
          ]
        }
      ]
    },
    {
      "cell_type": "code",
      "source": [
        "#Trouver les mots qui commencent par #\n",
        "print('Liste des mots qui comment par # ',re.findall('#\\w+',text2))\n",
        "#Trouver les mots qui commencent par @\n",
        "print('Liste des mots qui comment par @ ',re.findall('@\\w+',text2))"
      ],
      "metadata": {
        "colab": {
          "base_uri": "https://localhost:8080/"
        },
        "id": "2fu1mYq0u8xu",
        "outputId": "1daaccc9-667e-4762-e8cf-cdf8806af3f1"
      },
      "execution_count": null,
      "outputs": [
        {
          "output_type": "stream",
          "name": "stdout",
          "text": [
            "Liste des mots qui comment par #  ['#OpenQuestions', '#CareersQA']\n",
            "Liste des mots qui comment par @  ['@You_Ask', '@careers', '@GuardianCareers']\n"
          ]
        }
      ]
    },
    {
      "cell_type": "markdown",
      "metadata": {
        "id": "Ga6zV-38Jk5g"
      },
      "source": [
        "---\n",
        "---\n",
        "***Remarque : Les recherches les plus difficiles se font par des regex***\n",
        "\n",
        "---\n",
        "---\n",
        "### Merci pour votre attention\n",
        "---"
      ]
    }
  ]
}
