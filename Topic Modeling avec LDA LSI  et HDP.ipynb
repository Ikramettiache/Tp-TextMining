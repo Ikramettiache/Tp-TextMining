{
  "cells": [
    {
      "cell_type": "markdown",
      "metadata": {
        "id": "view-in-github",
        "colab_type": "text"
      },
      "source": [
        "<a href=\"https://colab.research.google.com/github/Ikramettiache/Tp-TextMining/blob/main/TP7_Ikrame_Ettiache.ipynb\" target=\"_parent\"><img src=\"https://colab.research.google.com/assets/colab-badge.svg\" alt=\"Open In Colab\"/></a>"
      ]
    },
    {
      "cell_type": "code",
      "execution_count": null,
      "metadata": {
        "colab": {
          "base_uri": "https://localhost:8080/"
        },
        "id": "nBLgwW0Xm6IH",
        "outputId": "e2c6fad9-7348-4f96-8379-16d561c320a7"
      },
      "outputs": [
        {
          "name": "stdout",
          "output_type": "stream",
          "text": [
            "[nltk_data] Downloading package stopwords to /root/nltk_data...\n",
            "[nltk_data]   Package stopwords is already up-to-date!\n"
          ]
        },
        {
          "data": {
            "text/plain": [
              "True"
            ]
          },
          "execution_count": 66,
          "metadata": {},
          "output_type": "execute_result"
        }
      ],
      "source": [
        "# Run in python console\n",
        "import nltk; \n",
        "nltk.download('stopwords')"
      ]
    },
    {
      "cell_type": "code",
      "execution_count": null,
      "metadata": {
        "colab": {
          "base_uri": "https://localhost:8080/",
          "height": 35
        },
        "id": "3czB4VCzoXFY",
        "outputId": "154576b4-21ac-4584-d58d-9c2395be52de"
      },
      "outputs": [
        {
          "data": {
            "application/vnd.google.colaboratory.intrinsic+json": {
              "type": "string"
            },
            "text/plain": [
              "'3.2.5'"
            ]
          },
          "execution_count": 67,
          "metadata": {},
          "output_type": "execute_result"
        }
      ],
      "source": [
        "nltk.__version__"
      ]
    },
    {
      "cell_type": "code",
      "execution_count": null,
      "metadata": {
        "colab": {
          "base_uri": "https://localhost:8080/"
        },
        "id": "_YzvFyrOnhT2",
        "outputId": "ff10ede3-cd00-44f1-8872-eb17356cd1e1"
      },
      "outputs": [
        {
          "name": "stdout",
          "output_type": "stream",
          "text": [
            "Requirement already satisfied: pyLDAvis in /usr/local/lib/python3.7/dist-packages (3.3.1)\n",
            "Requirement already satisfied: gensim in /usr/local/lib/python3.7/dist-packages (from pyLDAvis) (3.6.0)\n",
            "Requirement already satisfied: funcy in /usr/local/lib/python3.7/dist-packages (from pyLDAvis) (1.17)\n",
            "Requirement already satisfied: pandas>=1.2.0 in /usr/local/lib/python3.7/dist-packages (from pyLDAvis) (1.3.5)\n",
            "Requirement already satisfied: scikit-learn in /usr/local/lib/python3.7/dist-packages (from pyLDAvis) (1.0.2)\n",
            "Requirement already satisfied: scipy in /usr/local/lib/python3.7/dist-packages (from pyLDAvis) (1.4.1)\n",
            "Requirement already satisfied: future in /usr/local/lib/python3.7/dist-packages (from pyLDAvis) (0.16.0)\n",
            "Requirement already satisfied: joblib in /usr/local/lib/python3.7/dist-packages (from pyLDAvis) (1.1.0)\n",
            "Requirement already satisfied: sklearn in /usr/local/lib/python3.7/dist-packages (from pyLDAvis) (0.0)\n",
            "Requirement already satisfied: numexpr in /usr/local/lib/python3.7/dist-packages (from pyLDAvis) (2.8.1)\n",
            "Requirement already satisfied: setuptools in /usr/local/lib/python3.7/dist-packages (from pyLDAvis) (57.4.0)\n",
            "Requirement already satisfied: numpy>=1.20.0 in /usr/local/lib/python3.7/dist-packages (from pyLDAvis) (1.21.5)\n",
            "Requirement already satisfied: jinja2 in /usr/local/lib/python3.7/dist-packages (from pyLDAvis) (2.11.3)\n",
            "Requirement already satisfied: pytz>=2017.3 in /usr/local/lib/python3.7/dist-packages (from pandas>=1.2.0->pyLDAvis) (2018.9)\n",
            "Requirement already satisfied: python-dateutil>=2.7.3 in /usr/local/lib/python3.7/dist-packages (from pandas>=1.2.0->pyLDAvis) (2.8.2)\n",
            "Requirement already satisfied: six>=1.5 in /usr/local/lib/python3.7/dist-packages (from python-dateutil>=2.7.3->pandas>=1.2.0->pyLDAvis) (1.15.0)\n",
            "Requirement already satisfied: smart-open>=1.2.1 in /usr/local/lib/python3.7/dist-packages (from gensim->pyLDAvis) (5.2.1)\n",
            "Requirement already satisfied: MarkupSafe>=0.23 in /usr/local/lib/python3.7/dist-packages (from jinja2->pyLDAvis) (2.0.1)\n",
            "Requirement already satisfied: packaging in /usr/local/lib/python3.7/dist-packages (from numexpr->pyLDAvis) (21.3)\n",
            "Requirement already satisfied: pyparsing!=3.0.5,>=2.0.2 in /usr/local/lib/python3.7/dist-packages (from packaging->numexpr->pyLDAvis) (3.0.7)\n",
            "Requirement already satisfied: threadpoolctl>=2.0.0 in /usr/local/lib/python3.7/dist-packages (from scikit-learn->pyLDAvis) (3.1.0)\n"
          ]
        }
      ],
      "source": [
        "!pip install pyLDAvis"
      ]
    },
    {
      "cell_type": "code",
      "execution_count": null,
      "metadata": {
        "id": "puvzQHv2nSbq"
      },
      "outputs": [],
      "source": [
        "import matplotlib.pyplot as plt\n",
        "import gensim\n",
        "import numpy as np\n",
        "import spacy\n",
        "import pandas as pd\n",
        "from gensim.models import CoherenceModel, LdaModel, LsiModel, HdpModel\n",
        "from gensim.models.wrappers import LdaMallet\n",
        "from gensim.corpora import Dictionary\n",
        "import pyLDAvis.gensim_models\n",
        "\n",
        "import os, re, operator, warnings\n",
        "warnings.filterwarnings('ignore')  # Let's not pay heed to them right now\n",
        "%matplotlib inline"
      ]
    },
    {
      "cell_type": "code",
      "execution_count": null,
      "metadata": {
        "colab": {
          "base_uri": "https://localhost:8080/"
        },
        "id": "awJI5Va4oLs0",
        "outputId": "de2bf104-a699-454e-f162-4b8dc5bcc9c0"
      },
      "outputs": [
        {
          "name": "stdout",
          "output_type": "stream",
          "text": [
            "['i', 'me', 'my', 'myself', 'we', 'our', 'ours', 'ourselves', 'you', \"you're\", \"you've\", \"you'll\", \"you'd\", 'your', 'yours', 'yourself', 'yourselves', 'he', 'him', 'his', 'himself', 'she', \"she's\", 'her', 'hers', 'herself', 'it', \"it's\", 'its', 'itself', 'they', 'them', 'their', 'theirs', 'themselves', 'what', 'which', 'who', 'whom', 'this', 'that', \"that'll\", 'these', 'those', 'am', 'is', 'are', 'was', 'were', 'be', 'been', 'being', 'have', 'has', 'had', 'having', 'do', 'does', 'did', 'doing', 'a', 'an', 'the', 'and', 'but', 'if', 'or', 'because', 'as', 'until', 'while', 'of', 'at', 'by', 'for', 'with', 'about', 'against', 'between', 'into', 'through', 'during', 'before', 'after', 'above', 'below', 'to', 'from', 'up', 'down', 'in', 'out', 'on', 'off', 'over', 'under', 'again', 'further', 'then', 'once', 'here', 'there', 'when', 'where', 'why', 'how', 'all', 'any', 'both', 'each', 'few', 'more', 'most', 'other', 'some', 'such', 'no', 'nor', 'not', 'only', 'own', 'same', 'so', 'than', 'too', 'very', 's', 't', 'can', 'will', 'just', 'don', \"don't\", 'should', \"should've\", 'now', 'd', 'll', 'm', 'o', 're', 've', 'y', 'ain', 'aren', \"aren't\", 'couldn', \"couldn't\", 'didn', \"didn't\", 'doesn', \"doesn't\", 'hadn', \"hadn't\", 'hasn', \"hasn't\", 'haven', \"haven't\", 'isn', \"isn't\", 'ma', 'mightn', \"mightn't\", 'mustn', \"mustn't\", 'needn', \"needn't\", 'shan', \"shan't\", 'shouldn', \"shouldn't\", 'wasn', \"wasn't\", 'weren', \"weren't\", 'won', \"won't\", 'wouldn', \"wouldn't\"]\n"
          ]
        }
      ],
      "source": [
        "# NLTK Stop words\n",
        "from nltk.corpus import stopwords\n",
        "stop_words = stopwords.words('english')\n",
        "print(stop_words)\n",
        "stop_words.extend(['from', 'subject', 're', 'edu', 'use'])"
      ]
    },
    {
      "cell_type": "markdown",
      "metadata": {
        "id": "Mla9d7Fxq4B1"
      },
      "source": [
        "###**Importation de la base Newsgroups Data**"
      ]
    },
    {
      "cell_type": "code",
      "execution_count": null,
      "metadata": {
        "colab": {
          "base_uri": "https://localhost:8080/",
          "height": 316
        },
        "id": "V5esS8-2rDKr",
        "outputId": "06d5eb2d-4f0d-43bb-df1d-3be19cd41458"
      },
      "outputs": [
        {
          "name": "stdout",
          "output_type": "stream",
          "text": [
            "['rec.autos' 'comp.sys.mac.hardware' 'comp.graphics' 'sci.space'\n",
            " 'talk.politics.guns' 'sci.med' 'comp.sys.ibm.pc.hardware'\n",
            " 'comp.os.ms-windows.misc' 'rec.motorcycles' 'talk.religion.misc'\n",
            " 'misc.forsale' 'alt.atheism' 'sci.electronics' 'comp.windows.x'\n",
            " 'rec.sport.hockey' 'rec.sport.baseball' 'soc.religion.christian'\n",
            " 'talk.politics.mideast' 'talk.politics.misc' 'sci.crypt']\n"
          ]
        },
        {
          "data": {
            "text/html": [
              "\n",
              "  <div id=\"df-9c073a3f-2ce3-48bc-9902-2025ccfa1b13\">\n",
              "    <div class=\"colab-df-container\">\n",
              "      <div>\n",
              "<style scoped>\n",
              "    .dataframe tbody tr th:only-of-type {\n",
              "        vertical-align: middle;\n",
              "    }\n",
              "\n",
              "    .dataframe tbody tr th {\n",
              "        vertical-align: top;\n",
              "    }\n",
              "\n",
              "    .dataframe thead th {\n",
              "        text-align: right;\n",
              "    }\n",
              "</style>\n",
              "<table border=\"1\" class=\"dataframe\">\n",
              "  <thead>\n",
              "    <tr style=\"text-align: right;\">\n",
              "      <th></th>\n",
              "      <th>content</th>\n",
              "      <th>target</th>\n",
              "      <th>target_names</th>\n",
              "    </tr>\n",
              "  </thead>\n",
              "  <tbody>\n",
              "    <tr>\n",
              "      <th>0</th>\n",
              "      <td>From: lerxst@wam.umd.edu (where's my thing)\\nS...</td>\n",
              "      <td>7</td>\n",
              "      <td>rec.autos</td>\n",
              "    </tr>\n",
              "    <tr>\n",
              "      <th>1</th>\n",
              "      <td>From: guykuo@carson.u.washington.edu (Guy Kuo)...</td>\n",
              "      <td>4</td>\n",
              "      <td>comp.sys.mac.hardware</td>\n",
              "    </tr>\n",
              "    <tr>\n",
              "      <th>2</th>\n",
              "      <td>From: twillis@ec.ecn.purdue.edu (Thomas E Will...</td>\n",
              "      <td>4</td>\n",
              "      <td>comp.sys.mac.hardware</td>\n",
              "    </tr>\n",
              "    <tr>\n",
              "      <th>3</th>\n",
              "      <td>From: jgreen@amber (Joe Green)\\nSubject: Re: W...</td>\n",
              "      <td>1</td>\n",
              "      <td>comp.graphics</td>\n",
              "    </tr>\n",
              "    <tr>\n",
              "      <th>4</th>\n",
              "      <td>From: jcm@head-cfa.harvard.edu (Jonathan McDow...</td>\n",
              "      <td>14</td>\n",
              "      <td>sci.space</td>\n",
              "    </tr>\n",
              "  </tbody>\n",
              "</table>\n",
              "</div>\n",
              "      <button class=\"colab-df-convert\" onclick=\"convertToInteractive('df-9c073a3f-2ce3-48bc-9902-2025ccfa1b13')\"\n",
              "              title=\"Convert this dataframe to an interactive table.\"\n",
              "              style=\"display:none;\">\n",
              "        \n",
              "  <svg xmlns=\"http://www.w3.org/2000/svg\" height=\"24px\"viewBox=\"0 0 24 24\"\n",
              "       width=\"24px\">\n",
              "    <path d=\"M0 0h24v24H0V0z\" fill=\"none\"/>\n",
              "    <path d=\"M18.56 5.44l.94 2.06.94-2.06 2.06-.94-2.06-.94-.94-2.06-.94 2.06-2.06.94zm-11 1L8.5 8.5l.94-2.06 2.06-.94-2.06-.94L8.5 2.5l-.94 2.06-2.06.94zm10 10l.94 2.06.94-2.06 2.06-.94-2.06-.94-.94-2.06-.94 2.06-2.06.94z\"/><path d=\"M17.41 7.96l-1.37-1.37c-.4-.4-.92-.59-1.43-.59-.52 0-1.04.2-1.43.59L10.3 9.45l-7.72 7.72c-.78.78-.78 2.05 0 2.83L4 21.41c.39.39.9.59 1.41.59.51 0 1.02-.2 1.41-.59l7.78-7.78 2.81-2.81c.8-.78.8-2.07 0-2.86zM5.41 20L4 18.59l7.72-7.72 1.47 1.35L5.41 20z\"/>\n",
              "  </svg>\n",
              "      </button>\n",
              "      \n",
              "  <style>\n",
              "    .colab-df-container {\n",
              "      display:flex;\n",
              "      flex-wrap:wrap;\n",
              "      gap: 12px;\n",
              "    }\n",
              "\n",
              "    .colab-df-convert {\n",
              "      background-color: #E8F0FE;\n",
              "      border: none;\n",
              "      border-radius: 50%;\n",
              "      cursor: pointer;\n",
              "      display: none;\n",
              "      fill: #1967D2;\n",
              "      height: 32px;\n",
              "      padding: 0 0 0 0;\n",
              "      width: 32px;\n",
              "    }\n",
              "\n",
              "    .colab-df-convert:hover {\n",
              "      background-color: #E2EBFA;\n",
              "      box-shadow: 0px 1px 2px rgba(60, 64, 67, 0.3), 0px 1px 3px 1px rgba(60, 64, 67, 0.15);\n",
              "      fill: #174EA6;\n",
              "    }\n",
              "\n",
              "    [theme=dark] .colab-df-convert {\n",
              "      background-color: #3B4455;\n",
              "      fill: #D2E3FC;\n",
              "    }\n",
              "\n",
              "    [theme=dark] .colab-df-convert:hover {\n",
              "      background-color: #434B5C;\n",
              "      box-shadow: 0px 1px 3px 1px rgba(0, 0, 0, 0.15);\n",
              "      filter: drop-shadow(0px 1px 2px rgba(0, 0, 0, 0.3));\n",
              "      fill: #FFFFFF;\n",
              "    }\n",
              "  </style>\n",
              "\n",
              "      <script>\n",
              "        const buttonEl =\n",
              "          document.querySelector('#df-9c073a3f-2ce3-48bc-9902-2025ccfa1b13 button.colab-df-convert');\n",
              "        buttonEl.style.display =\n",
              "          google.colab.kernel.accessAllowed ? 'block' : 'none';\n",
              "\n",
              "        async function convertToInteractive(key) {\n",
              "          const element = document.querySelector('#df-9c073a3f-2ce3-48bc-9902-2025ccfa1b13');\n",
              "          const dataTable =\n",
              "            await google.colab.kernel.invokeFunction('convertToInteractive',\n",
              "                                                     [key], {});\n",
              "          if (!dataTable) return;\n",
              "\n",
              "          const docLinkHtml = 'Like what you see? Visit the ' +\n",
              "            '<a target=\"_blank\" href=https://colab.research.google.com/notebooks/data_table.ipynb>data table notebook</a>'\n",
              "            + ' to learn more about interactive tables.';\n",
              "          element.innerHTML = '';\n",
              "          dataTable['output_type'] = 'display_data';\n",
              "          await google.colab.output.renderOutput(dataTable, element);\n",
              "          const docLink = document.createElement('div');\n",
              "          docLink.innerHTML = docLinkHtml;\n",
              "          element.appendChild(docLink);\n",
              "        }\n",
              "      </script>\n",
              "    </div>\n",
              "  </div>\n",
              "  "
            ],
            "text/plain": [
              "                                             content  target  \\\n",
              "0  From: lerxst@wam.umd.edu (where's my thing)\\nS...       7   \n",
              "1  From: guykuo@carson.u.washington.edu (Guy Kuo)...       4   \n",
              "2  From: twillis@ec.ecn.purdue.edu (Thomas E Will...       4   \n",
              "3  From: jgreen@amber (Joe Green)\\nSubject: Re: W...       1   \n",
              "4  From: jcm@head-cfa.harvard.edu (Jonathan McDow...      14   \n",
              "\n",
              "            target_names  \n",
              "0              rec.autos  \n",
              "1  comp.sys.mac.hardware  \n",
              "2  comp.sys.mac.hardware  \n",
              "3          comp.graphics  \n",
              "4              sci.space  "
            ]
          },
          "execution_count": 71,
          "metadata": {},
          "output_type": "execute_result"
        }
      ],
      "source": [
        "# Import Dataset\n",
        "df = pd.read_json('https://raw.githubusercontent.com/selva86/datasets/master/newsgroups.json')\n",
        "print(df.target_names.unique())\n",
        "df.head()"
      ]
    },
    {
      "cell_type": "markdown",
      "metadata": {
        "id": "0G5PKri7rkB6"
      },
      "source": [
        "**Nettoyage du corpus**"
      ]
    },
    {
      "cell_type": "code",
      "execution_count": null,
      "metadata": {
        "id": "4RUNalxdrjN1"
      },
      "outputs": [],
      "source": [
        "corpus = df.content.values.tolist()\n",
        "data = df['content'].tolist()"
      ]
    },
    {
      "cell_type": "code",
      "execution_count": null,
      "metadata": {
        "id": "0EyAa--yrgtK"
      },
      "outputs": [],
      "source": [
        "corpus\n"
      ]
    },
    {
      "cell_type": "code",
      "execution_count": null,
      "metadata": {
        "colab": {
          "base_uri": "https://localhost:8080/",
          "height": 109
        },
        "id": "8w2hIFbytii7",
        "outputId": "07377c7b-5234-440d-f3e7-2405d18581b4"
      },
      "outputs": [
        {
          "data": {
            "application/vnd.google.colaboratory.intrinsic+json": {
              "type": "string"
            },
            "text/plain": [
              "\"From: lerxst@wam.umd.edu (where's my thing)\\nSubject: WHAT car is this!?\\nNntp-Posting-Host: rac3.wam.umd.edu\\nOrganization: University of Maryland, College Park\\nLines: 15\\n\\n I was wondering if anyone out there could enlighten me on this car I saw\\nthe other day. It was a 2-door sports car, looked to be from the late 60s/\\nearly 70s. It was called a Bricklin. The doors were really small. In addition,\\nthe front bumper was separate from the rest of the body. This is \\nall I know. If anyone can tellme a model name, engine specs, years\\nof production, where this car is made, history, or whatever info you\\nhave on this funky looking car, please e-mail.\\n\\nThanks,\\n- IL\\n   ---- brought to you by your neighborhood Lerxst ----\\n\\n\\n\\n\\n\""
            ]
          },
          "execution_count": 74,
          "metadata": {},
          "output_type": "execute_result"
        }
      ],
      "source": [
        "sent"
      ]
    },
    {
      "cell_type": "markdown",
      "metadata": {
        "id": "ZCYKmKO95Ykd"
      },
      "source": [
        "Dans cette partie, on a utilisé gensim bibliotheque pour faire la tokenization.\n",
        "On pourrait aussi utiliser autre méthode comme :\n",
        "\n",
        "*   nltk.tokenize import word_tokenize\n",
        "*   token.nlp(doc) avec la bibliothèque Spacy\n"
      ]
    },
    {
      "cell_type": "code",
      "execution_count": null,
      "metadata": {
        "colab": {
          "background_save": true
        },
        "id": "b4I99450tAtY"
      },
      "outputs": [],
      "source": [
        "from pprint import pprint\n",
        "\n",
        "# Remove Emails\n",
        "data = [re.sub('\\S*@\\S*\\s?', '', sent) for sent in data]\n",
        "\n",
        "# Remove new line characters\n",
        "data = [re.sub('\\s+', ' ', sent) for sent in data]\n",
        "\n",
        "# Remove distracting single quotes\n",
        "data = [re.sub(\"\\'\",\" \", sent) for sent in data]\n",
        "\n",
        "def sent_to_words(sentences):\n",
        "    for sentence in sentences:\n",
        "        yield(gensim.utils.simple_preprocess(str(sentence).encode('utf-8'), deacc=True))  \n",
        "        # deacc=True removes punctuations\n",
        "        #yield generate \n",
        "\n",
        "data_words = list(sent_to_words(data))\n",
        "print(data_words[:1])\n"
      ]
    },
    {
      "cell_type": "code",
      "execution_count": null,
      "metadata": {
        "id": "z-kkQerj4uNz"
      },
      "outputs": [],
      "source": [
        "data_words[:5]"
      ]
    },
    {
      "cell_type": "markdown",
      "metadata": {
        "id": "ZumUOpZy5AzK"
      },
      "source": [
        "**Créer Bigram & Trigram Models**"
      ]
    },
    {
      "cell_type": "code",
      "execution_count": null,
      "metadata": {
        "id": "kTlN-x1u1Ckx"
      },
      "outputs": [],
      "source": [
        "bigram = gensim.models.Phrases(data_words)\n",
        "trigram = gensim.models.Phrases(bigram[data_words], threshold=100) "
      ]
    },
    {
      "cell_type": "code",
      "execution_count": null,
      "metadata": {
        "colab": {
          "base_uri": "https://localhost:8080/"
        },
        "id": "ydLab8OkEGLh",
        "outputId": "f5b541a8-814c-468f-f8e1-21136eb4d7eb"
      },
      "outputs": [
        {
          "name": "stdout",
          "output_type": "stream",
          "text": [
            "['from', 'where', 'my', 'thing', 'subject', 'what', 'car', 'is', 'this', 'nntp_posting', 'host_rac', 'wam', 'umd', 'edu', 'organization_university', 'of', 'maryland_college', 'park', 'lines', 'was_wondering', 'if', 'anyone', 'out', 'there', 'could', 'enlighten_me', 'on', 'this', 'car', 'saw', 'the', 'other', 'day', 'it', 'was', 'door', 'sports_car', 'looked', 'to', 'be', 'from', 'the', 'late', 'early', 'it', 'was', 'called', 'bricklin', 'the', 'doors', 'were', 'really', 'small', 'in_addition', 'the', 'front_bumper', 'was', 'separate', 'from', 'the', 'rest', 'of', 'the', 'body', 'this', 'is', 'all', 'know', 'if', 'anyone', 'can', 'tellme', 'model', 'name', 'engine', 'specs', 'years', 'of', 'production', 'where', 'this', 'car', 'is', 'made', 'history', 'or', 'whatever', 'info', 'you', 'have', 'on', 'this', 'funky', 'looking', 'car', 'please', 'mail', 'thanks', 'il', 'brought', 'to', 'you', 'by', 'your', 'neighborhood', 'lerxst']\n"
          ]
        }
      ],
      "source": [
        "print(trigram[data_words[0]])"
      ]
    },
    {
      "cell_type": "code",
      "execution_count": null,
      "metadata": {
        "id": "gcrY_J1aEZcr"
      },
      "outputs": [],
      "source": [
        "# Define functions for stopwords, bigrams, trigrams and lemmatization\n",
        "#simple preprocess for tokenize\n",
        "#nltk.lemmatize aussi pour peut etre utiliser\n",
        "import gensim.corpora as corpora\n",
        "from gensim.utils import simple_preprocess\n",
        "from gensim.models import CoherenceModel\n",
        "def remove_stopwords(texts):\n",
        "    return [[word for word in simple_preprocess(str(doc)) if word not in stop_words] for doc in texts]\n",
        "\n",
        "def make_bigrams(texts):\n",
        "    return [bigram[doc] for doc in texts]\n",
        "\n",
        "def make_trigrams(texts):\n",
        "    return [trigram[bigram[doc]] for doc in texts]\n",
        "\n",
        "def lemmatization(texts, allowed_postags=['NOUN', 'ADJ', 'VERB', 'ADV']):\n",
        "    \"\"\"https://spacy.io/api/annotation\"\"\"\n",
        "    texts_out = []\n",
        "    for sent in texts:\n",
        "        doc = nlp(\" \".join(sent)) \n",
        "        texts_out.append([token.lemma_ for token in doc if token.pos_ in allowed_postags])\n",
        "    return texts_out"
      ]
    },
    {
      "cell_type": "code",
      "execution_count": null,
      "metadata": {
        "colab": {
          "base_uri": "https://localhost:8080/"
        },
        "id": "rELTxeTzFMuY",
        "outputId": "1c140303-90fb-40a2-8153-3fd84344922d"
      },
      "outputs": [
        {
          "name": "stdout",
          "output_type": "stream",
          "text": [
            "[['thing', 'car', 'nntp_posting', 'host_rac', 'park', 'line', 'wonder', 'could', 'enlighten', 'car', 'see', 'day', 'door', 'look', 'late_early', 'call', 'bricklin', 'door', 'really', 'small', 'addition', 'separate', 'rest', 'body', 'know', 'tellme', 'model', 'name', 'engine', 'year', 'production', 'car', 'make', 'history', 'info', 'funky', 'look', 'car', 'thank', 'bring', 'neighborhood', 'lerxst']]\n"
          ]
        }
      ],
      "source": [
        "# Remove Stop Words\n",
        "data_words_nostops = remove_stopwords(data_words)\n",
        "\n",
        "# Form Bigrams\n",
        "data_words_bigrams = make_bigrams(data_words_nostops)\n",
        "\n",
        "nlp = spacy.load('en_core_web_sm', disable=['parser', 'ner'])\n",
        "\n",
        "# Do lemmatization keeping only noun, adj, vb, adv\n",
        "data_lemmatized = lemmatization(data_words_bigrams, allowed_postags=['NOUN', 'ADJ', 'VERB', 'ADV'])\n",
        "\n",
        "print(data_lemmatized[:1])"
      ]
    },
    {
      "cell_type": "markdown",
      "metadata": {
        "id": "q1J0gZC-GcCF"
      },
      "source": [
        " **Topic Medeling avec LSI**\n"
      ]
    },
    {
      "cell_type": "code",
      "execution_count": null,
      "metadata": {
        "colab": {
          "base_uri": "https://localhost:8080/"
        },
        "id": "uDVtpOSpGadD",
        "outputId": "dc1a63c8-1323-4a8c-be25-e70eb047c42c"
      },
      "outputs": [
        {
          "data": {
            "text/plain": [
              "{'addition': 0,\n",
              " 'body': 1,\n",
              " 'bricklin': 2,\n",
              " 'bring': 3,\n",
              " 'call': 4,\n",
              " 'car': 5,\n",
              " 'could': 6,\n",
              " 'day': 7,\n",
              " 'door': 8,\n",
              " 'engine': 9,\n",
              " 'enlighten': 10,\n",
              " 'funky': 11,\n",
              " 'history': 12,\n",
              " 'host_rac': 13,\n",
              " 'info': 14,\n",
              " 'know': 15,\n",
              " 'late_early': 16,\n",
              " 'lerxst': 17,\n",
              " 'line': 18,\n",
              " 'look': 19,\n",
              " 'make': 20,\n",
              " 'model': 21,\n",
              " 'name': 22,\n",
              " 'neighborhood': 23,\n",
              " 'nntp_posting': 24,\n",
              " 'park': 25,\n",
              " 'production': 26,\n",
              " 'really': 27,\n",
              " 'rest': 28,\n",
              " 'see': 29,\n",
              " 'separate': 30,\n",
              " 'small': 31,\n",
              " 'tellme': 32,\n",
              " 'thank': 33,\n",
              " 'thing': 34,\n",
              " 'wonder': 35,\n",
              " 'year': 36,\n",
              " 'acceleration': 37,\n",
              " 'add': 38,\n",
              " 'answer': 39,\n",
              " 'attain': 40,\n",
              " 'base': 41,\n",
              " 'brave': 42,\n",
              " 'brief': 43,\n",
              " 'card': 44,\n",
              " 'clock': 45,\n",
              " 'cpu': 46,\n",
              " 'detail': 47,\n",
              " 'do': 48,\n",
              " 'especially': 49,\n",
              " 'experience': 50,\n",
              " 'fair': 51,\n",
              " 'final': 52,\n",
              " 'floppy': 53,\n",
              " 'functionality': 54,\n",
              " 'hour': 55,\n",
              " 'keyword': 56,\n",
              " 'knowledge': 57,\n",
              " 'message': 58,\n",
              " 'network': 59,\n",
              " 'number': 60,\n",
              " 'oscillator': 61,\n",
              " 'please_send': 62,\n",
              " 'poll': 63,\n",
              " 'procedure': 64,\n",
              " 'rate': 65,\n",
              " 'report': 66,\n",
              " 'request': 67,\n",
              " 'share': 68,\n",
              " 'soul': 69,\n",
              " 'speed': 70,\n",
              " 'summarize': 71,\n",
              " 'summary': 72,\n",
              " 'top': 73,\n",
              " 'upgrade': 74,\n",
              " 'usage': 75,\n",
              " 'access': 76,\n",
              " 'active': 77,\n",
              " 'actually': 78,\n",
              " 'advance': 79,\n",
              " 'anymore': 80,\n",
              " 'appearence': 81,\n",
              " 'back': 82,\n",
              " 'bit': 83,\n",
              " 'breifly': 84,\n",
              " 'bunch': 85,\n",
              " 'computer': 86,\n",
              " 'conviction': 87,\n",
              " 'corner': 88,\n",
              " 'daily': 89,\n",
              " 'dangerous_enemies': 90,\n",
              " 'dirt': 91,\n",
              " 'disk': 92,\n",
              " 'display': 93,\n",
              " 'distribution_usa': 94,\n",
              " 'drop': 95,\n",
              " 'email': 96,\n",
              " 'expect': 97,\n",
              " 'feel': 98,\n",
              " 'figure': 99,\n",
              " 'finally': 100,\n",
              " 'folk': 101,\n",
              " 'get': 102,\n",
              " 'ghost': 103,\n",
              " 'give': 104,\n",
              " 'go': 105,\n",
              " 'good': 106,\n",
              " 'great': 107,\n",
              " 'hear': 108,\n",
              " 'hellcat': 109,\n",
              " 'helpful': 110,\n",
              " 'hit': 111,\n",
              " 'hopefully': 112,\n",
              " 'impression': 113,\n",
              " 'intend': 114,\n",
              " 'introduction': 115,\n",
              " 'lie': 116,\n",
              " 'life': 117,\n",
              " 'machine': 118,\n",
              " 'macleak': 119,\n",
              " 'market': 120,\n",
              " 'may': 121,\n",
              " 'maybe': 122,\n",
              " 'money': 123,\n",
              " 'new': 124,\n",
              " 'news': 125,\n",
              " 'nietzsche': 126,\n",
              " 'one': 127,\n",
              " 'opinion': 128,\n",
              " 'people': 129,\n",
              " 'perform': 130,\n",
              " 'pick': 131,\n",
              " 'play': 132,\n",
              " 'post_summary': 133,\n",
              " 'powerbook': 134,\n",
              " 'premium': 135,\n",
              " 'price': 136,\n",
              " 'probably': 137,\n",
              " 'prove': 138,\n",
              " 'question': 139,\n",
              " 'rather': 140,\n",
              " 'reading': 141,\n",
              " 'real': 142,\n",
              " 'realize': 143,\n",
              " 'recently': 144,\n",
              " 'round': 145,\n",
              " 'size': 146,\n",
              " 'solicit': 147,\n",
              " 'sooner': 148,\n",
              " 'start': 149,\n",
              " 'store': 150,\n",
              " 'subjective': 151,\n",
              " 'summer': 152,\n",
              " 'suppose': 153,\n",
              " 'swing': 154,\n",
              " 'take': 155,\n",
              " 'time': 156,\n",
              " 'truth': 157,\n",
              " 'use': 158,\n",
              " 'way': 159,\n",
              " 'weekend': 160,\n",
              " 'well': 161,\n",
              " 'worth': 162,\n",
              " 'yea': 163,\n",
              " 'address': 164,\n",
              " 'amber': 165,\n",
              " 'article': 166,\n",
              " 'chip': 167,\n",
              " 'command': 168,\n",
              " 'division': 169,\n",
              " 'far': 170,\n",
              " 'fill': 171,\n",
              " 'humor': 172,\n",
              " 'information': 173,\n",
              " 'lines_distribution': 174,\n",
              " 'person': 175,\n",
              " 'point': 176,\n",
              " 'quadrilateral': 177,\n",
              " 'require': 178,\n",
              " 'scare': 179,\n",
              " 'sense': 180,\n",
              " 'stuff': 181,\n",
              " 'winter': 182,\n",
              " 'write': 183,\n",
              " 'already': 184,\n",
              " 'basically': 185,\n",
              " 'bug': 186,\n",
              " 'caution': 187,\n",
              " 'check': 188,\n",
              " 'clear': 189,\n",
              " 'code': 190,\n",
              " 'condition': 191,\n",
              " 'crew': 192,\n",
              " 'curious': 193,\n",
              " 'error': 194,\n",
              " 'fix': 195,\n",
              " 'ignore': 196,\n",
              " 'introduce_new': 197,\n",
              " 'launch': 198,\n",
              " 'meaning': 199,\n",
              " 'memory': 200,\n",
              " 'possibly': 201,\n",
              " 'previously': 202,\n",
              " 'right': 203,\n",
              " 'set': 204,\n",
              " 'software': 205,\n",
              " 'sorry': 206,\n",
              " 'suchlike': 207,\n",
              " 'system': 208,\n",
              " 'tell': 209,\n",
              " 'unexpected': 210,\n",
              " 'value': 211,\n",
              " 'verify': 212,\n",
              " 'waivere': 213,\n",
              " 'warn': 214,\n",
              " 'yet': 215,\n",
              " 'accidental': 216,\n",
              " 'agree': 217,\n",
              " 'allegedly': 218,\n",
              " 'allow': 219,\n",
              " 'analysis': 220,\n",
              " 'argument': 221,\n",
              " 'bear': 222,\n",
              " 'believe': 223,\n",
              " 'blank': 224,\n",
              " 'can': 225,\n",
              " 'class': 226,\n",
              " 'come': 227,\n",
              " 'commonly': 228,\n",
              " 'company': 229,\n",
              " 'consider': 230,\n",
              " 'control': 231,\n",
              " 'cost': 232,\n",
              " 'count': 233,\n",
              " 'course': 234,\n",
              " 'crimial': 235,\n",
              " 'death': 236,\n",
              " 'define': 237,\n",
              " 'destructive': 238,\n",
              " 'disagree': 239,\n",
              " 'doubt': 240,\n",
              " 'easily': 241,\n",
              " 'even': 242,\n",
              " 'evidently': 243,\n",
              " 'find': 244,\n",
              " 'first': 245,\n",
              " 'follow': 246,\n",
              " 'government': 247,\n",
              " 'hand': 248,\n",
              " 'handgun': 249,\n",
              " 'hard': 250,\n",
              " 'hope': 251,\n",
              " 'idea': 252,\n",
              " 'immediately': 253,\n",
              " 'individual': 254,\n",
              " 'keep': 255,\n",
              " 'kill': 256,\n",
              " 'later': 257,\n",
              " 'many': 258,\n",
              " 'massive': 259,\n",
              " 'mean': 260,\n",
              " 'million': 261,\n",
              " 'modern': 262,\n",
              " 'must': 263,\n",
              " 'need': 264,\n",
              " 'needless': 265,\n",
              " 'neighbor': 266,\n",
              " 'nerve_gas': 267,\n",
              " 'organization': 268,\n",
              " 'packet': 269,\n",
              " 'power': 270,\n",
              " 'present': 271,\n",
              " 'property': 272,\n",
              " 'put': 273,\n",
              " 'read': 274,\n",
              " 'reasonable': 275,\n",
              " 'reduce': 276,\n",
              " 'restriction': 277,\n",
              " 'result': 278,\n",
              " 'reword': 279,\n",
              " 'rifle': 280,\n",
              " 'rigidly': 281,\n",
              " 'say': 282,\n",
              " 'shotgun': 283,\n",
              " 'show': 284,\n",
              " 'sign': 285,\n",
              " 'sk': 286,\n",
              " 'speak': 287,\n",
              " 'state': 288,\n",
              " 'street': 289,\n",
              " 'support': 290,\n",
              " 'sweeper': 291,\n",
              " 'switching': 292,\n",
              " 'term': 293,\n",
              " 'thousand': 294,\n",
              " 'topic': 295,\n",
              " 'understand': 296,\n",
              " 'understanding': 297,\n",
              " 'weapon': 298,\n",
              " 'would': 299,\n",
              " 'accidentally': 300,\n",
              " 'bounce': 301,\n",
              " 'delete': 302,\n",
              " 'directly': 303,\n",
              " 'file': 304,\n",
              " 'glad': 305,\n",
              " 'instead': 306,\n",
              " 'last': 307,\n",
              " 'mail': 308,\n",
              " 'publicly': 309,\n",
              " 'reply': 310,\n",
              " 'respond': 311,\n",
              " 'sure': 312,\n",
              " 'think': 313,\n",
              " 'treatment': 314,\n",
              " 'try': 315,\n",
              " 'tumor': 316,\n",
              " 'absurd': 317,\n",
              " 'acceptance': 318,\n",
              " 'actual': 319,\n",
              " 'always': 320,\n",
              " 'ansynchronous': 321,\n",
              " 'available': 322,\n",
              " 'burst': 323,\n",
              " 'burst_bit': 324,\n",
              " 'compare': 325,\n",
              " 'convince': 326,\n",
              " 'correct': 327,\n",
              " 'dante_nmsu': 328,\n",
              " 'datum': 329,\n",
              " 'device': 330,\n",
              " 'drive': 331,\n",
              " 'esdi': 332,\n",
              " 'exist': 333,\n",
              " 'fact': 334,\n",
              " 'fasst': 335,\n",
              " 'fast': 336,\n",
              " 'faster': 337,\n",
              " 'headache': 338,\n",
              " 'ide': 339,\n",
              " 'incompatability': 340,\n",
              " 'inconsiant': 341,\n",
              " 'increase': 342,\n",
              " 'indeed': 343,\n",
              " 'installation': 344,\n",
              " 'list': 345,\n",
              " 'long': 346,\n",
              " 'love': 347,\n",
              " 'magazine': 348,\n",
              " 'maximum': 349,\n",
              " 'mb': 350,\n",
              " 'much': 351,\n",
              " 'nm': 352,\n",
              " 'note': 353,\n",
              " 'part': 354,\n",
              " 'pc': 355,\n",
              " 'performance': 356,\n",
              " 'post': 357,\n",
              " 'problem': 358,\n",
              " 'range': 359,\n",
              " 'reach': 360,\n",
              " 'reference': 361,\n",
              " 'review': 362,\n",
              " 'scsi': 363,\n",
              " 'scsi_controll': 364,\n",
              " 'scsi_interface': 365,\n",
              " 'seem': 366,\n",
              " 'sheet': 367,\n",
              " 'stall': 368,\n",
              " 'statement': 369,\n",
              " 'still': 370,\n",
              " 'stupid': 371,\n",
              " 'synchronous': 372,\n",
              " 'true': 373,\n",
              " 'twice': 374,\n",
              " 'txt': 375,\n",
              " 'version': 376,\n",
              " 'world_nntp': 377,\n",
              " 'writer': 378,\n",
              " 'appreciated': 379,\n",
              " 'bmp': 380,\n",
              " 'change': 381,\n",
              " 'download': 382,\n",
              " 'help': 383,\n",
              " 'icon': 384,\n",
              " 'please': 385,\n",
              " 'several': 386,\n",
              " 'wallpaper': 387,\n",
              " 'win': 388,\n",
              " 'also': 389,\n",
              " 'autodoubler': 390,\n",
              " 'board': 391,\n",
              " 'buy': 392,\n",
              " 'competition': 393,\n",
              " 'compress': 394,\n",
              " 'computing': 395,\n",
              " 'decompress': 396,\n",
              " 'diskdoubler': 397,\n",
              " 'double': 398,\n",
              " 'due': 399,\n",
              " 'expansion': 400,\n",
              " 'fault': 401,\n",
              " 'freeware': 402,\n",
              " 'hole': 403,\n",
              " 'however': 404,\n",
              " 'instal': 405,\n",
              " 'licensing': 406,\n",
              " 'looking': 407,\n",
              " 'lose': 408,\n",
              " 'mention': 409,\n",
              " 'office': 410,\n",
              " 'phone': 411,\n",
              " 'product': 412,\n",
              " 'reappear': 413,\n",
              " 'recompress': 414,\n",
              " 'relate': 415,\n",
              " 'reluctant': 416,\n",
              " 'sad': 417,\n",
              " 'sigma_design': 418,\n",
              " 'stan_kerr': 419,\n",
              " 'stinky': 420,\n",
              " 'technology': 421,\n",
              " 'trouble': 422,\n",
              " 'usually': 423,\n",
              " 'utility': 424,\n",
              " 'work': 425,\n",
              " 'wrong': 426,\n",
              " 'bike': 427,\n",
              " 'bronze': 428,\n",
              " 'computrac_inc': 429,\n",
              " 'ducati': 430,\n",
              " 'fade': 431,\n",
              " 'gts': 432,\n",
              " 'leak': 433,\n",
              " 'mate': 434,\n",
              " 'motor': 435,\n",
              " 'nice': 436,\n",
              " 'oil': 437,\n",
              " 'owner': 438,\n",
              " 'paint': 439,\n",
              " 'run': 440,\n",
              " 'sell': 441,\n",
              " 'shop': 442,\n",
              " 'stable': 443,\n",
              " 'therefore': 444,\n",
              " 'want': 445,\n",
              " 'absolute_moral': 446,\n",
              " 'analogy': 447,\n",
              " 'ancestor': 448,\n",
              " 'animal': 449,\n",
              " 'apple': 450,\n",
              " 'argue': 451,\n",
              " 'aside': 452,\n",
              " 'assume': 453,\n",
              " 'attempt': 454,\n",
              " 'bad': 455,\n",
              " 'bar': 456,\n",
              " 'boundary': 457,\n",
              " 'case': 458,\n",
              " 'child': 459,\n",
              " 'commit': 460,\n",
              " 'conclusion': 461,\n",
              " 'create': 462,\n",
              " 'cry': 463,\n",
              " 'decide': 464,\n",
              " 'different': 465,\n",
              " 'directive': 466,\n",
              " 'disobey': 467,\n",
              " 'end': 468,\n",
              " 'establish': 469,\n",
              " 'example': 470,\n",
              " 'explain': 471,\n",
              " 'faith': 472,\n",
              " 'fall': 473,\n",
              " 'fish': 474,\n",
              " 'follower': 475,\n",
              " 'found': 476,\n",
              " 'front': 477,\n",
              " 'gist': 478,\n",
              " 'guy': 479,\n",
              " 'hold': 480,\n",
              " 'host': 481,\n",
              " 'humanity': 482,\n",
              " 'image': 483,\n",
              " 'inappropriate': 484,\n",
              " 'incidentally': 485,\n",
              " 'indicate': 486,\n",
              " 'inherent': 487,\n",
              " 'initially': 488,\n",
              " 'intent': 489,\n",
              " 'interpret': 490,\n",
              " 'interpretation': 491,\n",
              " 'jewish': 492,\n",
              " 'judaism': 493,\n",
              " 'lead': 494,\n",
              " 'learn': 495,\n",
              " 'little': 496,\n",
              " 'live': 497,\n",
              " 'main': 498,\n",
              " 'man': 499,\n",
              " 'mankind': 500,\n",
              " 'metaphor': 501,\n",
              " 'metaphysically': 502,\n",
              " 'mind': 503,\n",
              " 'mix': 504,\n",
              " 'moral_code': 505,\n",
              " 'morality': 506,\n",
              " 'multiple': 507,\n",
              " 'narrative': 508,\n",
              " 'necessarily': 509,\n",
              " 'never': 510,\n",
              " 'nuance': 511,\n",
              " 'old': 512,\n",
              " 'overlook': 513,\n",
              " 'parent': 514,\n",
              " 'piaget': 515,\n",
              " 'popular_morality': 516,\n",
              " 'pub': 517,\n",
              " 'questionable': 518,\n",
              " 'quite': 519,\n",
              " 'quite_happy': 520,\n",
              " 'record': 521,\n",
              " 'relationship': 522,\n",
              " 'relevation': 523,\n",
              " 'religion': 524,\n",
              " 'revelation': 525,\n",
              " 'sea': 526,\n",
              " 'simply': 527,\n",
              " 'speculate': 528,\n",
              " 'subjectiveness': 529,\n",
              " 'swear': 530,\n",
              " 'theologically': 531,\n",
              " 'trooper': 532,\n",
              " 'type': 533,\n",
              " 'unashamedly': 534,\n",
              " 'undoubtably': 535,\n",
              " 'unknowable': 536,\n",
              " 'upset': 537,\n",
              " 'utterance': 538,\n",
              " 'water': 539,\n",
              " 'wrongness': 540,\n",
              " 'young': 541,\n",
              " 'cerkoney': 542,\n",
              " 'co': 543,\n",
              " 'fekvh': 544,\n",
              " 'regard': 545,\n",
              " 'rod': 546,\n",
              " 'achieve': 547,\n",
              " 'acrv': 548,\n",
              " 'activity': 549,\n",
              " 'adopt': 550,\n",
              " 'alot': 551,\n",
              " 'alternative': 552,\n",
              " 'approach': 553,\n",
              " 'approximately': 554,\n",
              " 'assembly': 555,\n",
              " 'assure': 556,\n",
              " 'attach': 557,\n",
              " 'backside': 558,\n",
              " 'berthing': 559,\n",
              " 'build': 560,\n",
              " 'building': 561,\n",
              " 'bus': 562,\n",
              " 'capability': 563,\n",
              " 'center': 564,\n",
              " 'channel': 565,\n",
              " 'checkout': 566,\n",
              " 'common': 567,\n",
              " 'complete': 568,\n",
              " 'compute': 569,\n",
              " 'cone': 570,\n",
              " 'core': 571,\n",
              " 'cubic': 572,\n",
              " 'currently': 573,\n",
              " 'cylinder': 574,\n",
              " 'degradation': 575,\n",
              " 'deploy': 576,\n",
              " 'derive': 577,\n",
              " 'description': 578,\n",
              " 'design': 579,\n",
              " 'develop': 580,\n",
              " 'diameter': 581,\n",
              " 'dock': 582,\n",
              " 'docking': 583,\n",
              " 'dual': 584,\n",
              " 'edition': 585,\n",
              " 'elv': 586,\n",
              " 'environment': 587,\n",
              " 'environmental': 588,\n",
              " 'exception': 589,\n",
              " 'external': 590,\n",
              " 'external_tank': 591,\n",
              " 'failure': 592,\n",
              " 'feature': 593,\n",
              " 'flight': 594,\n",
              " 'floor': 595,\n",
              " 'fly': 596,\n",
              " 'foot': 597,\n",
              " 'freedom': 598,\n",
              " 'fuel': 599,\n",
              " 'giant': 600,\n",
              " 'graceful': 601,\n",
              " 'ground': 602,\n",
              " 'habitability': 603,\n",
              " 'housekeeping': 604,\n",
              " 'human': 605,\n",
              " 'inclination': 606,\n",
              " 'initial': 607,\n",
              " 'integration': 608,\n",
              " 'international_partner': 609,\n",
              " 'jsc': 610,\n",
              " 'key': 611,\n",
              " 'lab': 612,\n",
              " 'language': 613,\n",
              " 'let': 614,\n",
              " 'lightweight': 615,\n",
              " 'likely': 616,\n",
              " 'location': 617,\n",
              " 'logistic': 618,\n",
              " 'loop': 619,\n",
              " 'major': 620,\n",
              " 'management': 621,\n",
              " 'mark': 622,\n",
              " 'meeting': 623,\n",
              " 'microgravity': 624,\n",
              " 'mission': 625,\n",
              " 'modular': 626,\n",
              " 'module': 627,\n",
              " 'mount': 628,\n",
              " 'node': 629,\n",
              " 'non': 630,\n",
              " 'nose': 631,\n",
              " 'obtain': 632,\n",
              " 'occur': 633,\n",
              " 'oppose': 634,\n",
              " 'option': 635,\n",
              " 'orbit': 636,\n",
              " 'orbiter': 637,\n",
              " 'panel': 638,\n",
              " 'passageway': 639,\n",
              " 'permanent': 640,\n",
              " 'phase': 641,\n",
              " 'port': 642,\n",
              " 'presence': 643,\n",
              " 'pressurize': 644,\n",
              " 'proposal': 645,\n",
              " 'propose': 646,\n",
              " 'propulsion': 647,\n",
              " 'provide': 648,\n",
              " 'qualified': 649,\n",
              " 'radiator': 650,\n",
              " 'receive': 651,\n",
              " 'redesign': 652,\n",
              " 'redesign_jsc': 653,\n",
              " 'regular': 654,\n",
              " 'remove': 655,\n",
              " 'research': 656,\n",
              " 'respective': 657,\n",
              " 'return': 658,\n",
              " 'rumor': 659,\n",
              " 'second': 660,\n",
              " 'sexist': 661,\n",
              " 'shuttle': 662,\n",
              " 'single': 663,\n",
              " 'site': 664,\n",
              " 'skylab': 665,\n",
              " 'slap': 666,\n",
              " 'solar_pow': 667,\n",
              " 'solid_rocket': 668,\n",
              " 'sometimes': 669,\n",
              " 'space': 670,\n",
              " 'spacelab': 671,\n",
              " 'ssf': 672,\n",
              " 'st': 673,\n",
              " 'station': 674,\n",
              " 'study': 675,\n",
              " 'supply': 676,\n",
              " 'tail': 677,\n",
              " 'taking_place': 678,\n",
              " 'tangentially': 679,\n",
              " 'tank': 680,\n",
              " 'team': 681,\n",
              " 'tend': 682,\n",
              " 'thermal': 683,\n",
              " 'today': 684,\n",
              " 'tolerance': 685,\n",
              " 'transfer': 686,\n",
              " 'utilize': 687,\n",
              " 'vehicle': 688,\n",
              " 'visit': 689,\n",
              " 'volume': 690,\n",
              " 'warmly': 691,\n",
              " 'wing': 692,\n",
              " 'wingless': 693,\n",
              " 'yesterday': 694,\n",
              " 'accessory': 695,\n",
              " 'ask': 696,\n",
              " 'bag': 697,\n",
              " 'behalf': 698,\n",
              " 'bet': 699,\n",
              " 'binocular': 700,\n",
              " 'black': 701,\n",
              " 'blender': 702,\n",
              " 'brand_new': 703,\n",
              " 'brother': 704,\n",
              " 'contact': 705,\n",
              " 'cookbook': 706,\n",
              " 'decker': 707,\n",
              " 'dry': 708,\n",
              " 'dub': 709,\n",
              " 'duo': 710,\n",
              " 'duster': 711,\n",
              " 'everylast': 712,\n",
              " 'expeditously': 713,\n",
              " 'extra': 714,\n",
              " 'fixable': 715,\n",
              " 'forsale': 716,\n",
              " 'hair': 717,\n",
              " 'head': 718,\n",
              " 'include': 719,\n",
              " 'iron': 720,\n",
              " 'lastly': 721,\n",
              " 'leather': 722,\n",
              " 'magnification': 723,\n",
              " 'move': 724,\n",
              " 'offer': 725,\n",
              " 'osterizer': 726,\n",
              " 'player': 727,\n",
              " 'portable': 728,\n",
              " 'proctor': 729,\n",
              " 'purchase': 730,\n",
              " 'pusle': 731,\n",
              " 'salon': 732,\n",
              " 'sound': 733,\n",
              " 'tape': 734,\n",
              " 'treble': 735,\n",
              " 'vaccum': 736,\n",
              " 'wide': 737,\n",
              " 'afford': 738,\n",
              " 'allowed': 739,\n",
              " 'almost': 740,\n",
              " 'camp': 741,\n",
              " 'cause': 742,\n",
              " 'citizen': 743,\n",
              " 'devastation': 744,\n",
              " 'die': 745,\n",
              " 'disease': 746,\n",
              " 'ethnic': 747,\n",
              " 'exterminated': 748,\n",
              " 'form': 749,\n",
              " 'gas': 750,\n",
              " 'gassing': 751,\n",
              " 'generally': 752,\n",
              " 'goere': 753,\n",
              " 'group': 754,\n",
              " 'guess': 755,\n",
              " 'happen': 756,\n",
              " 'holocost': 757,\n",
              " 'immediate': 758,\n",
              " 'insert': 759,\n",
              " 'japanese': 760,\n",
              " 'malnutrition': 761,\n",
              " 'method': 762,\n",
              " 'minority': 763,\n",
              " 'mutilate': 764,\n",
              " 'painless': 765,\n",
              " 'partly': 766,\n",
              " 'prepared': 767,\n",
              " 'punishment': 768,\n",
              " 'recieve': 769,\n",
              " 'short': 770,\n",
              " 'soem': 771,\n",
              " 'standard': 772,\n",
              " 'step': 773,\n",
              " 'stick': 774,\n",
              " 'total': 775,\n",
              " 'trial': 776,\n",
              " 'unusual': 777,\n",
              " 'war': 778,\n",
              " 'able': 779,\n",
              " 'abuse': 780,\n",
              " 'app': 781,\n",
              " 'application': 782,\n",
              " 'asshole': 783,\n",
              " 'big': 784,\n",
              " 'bizarre': 785,\n",
              " 'capitalize': 786,\n",
              " 'certainly': 787,\n",
              " 'chalk': 788,\n",
              " 'complexity': 789,\n",
              " 'deal': 790,\n",
              " 'effort': 791,\n",
              " 'expense': 792,\n",
              " 'fair_amount': 793,\n",
              " 'flexible': 794,\n",
              " 'format': 795,\n",
              " 'general': 796,\n",
              " 'generating': 797,\n",
              " 'handle': 798,\n",
              " 'import': 799,\n",
              " 'inability': 800,\n",
              " 'interchange': 801,\n",
              " 'job': 802,\n",
              " 'library': 803,\n",
              " 'load': 804,\n",
              " 'minute': 805,\n",
              " 'misuse': 806,\n",
              " 'philosophically': 807,\n",
              " 'poor': 808,\n",
              " 'powerful': 809,\n",
              " 'program': 810,\n",
              " 'reason': 811,\n",
              " 'save': 812,\n",
              " 'saying': 813,\n",
              " 'significance': 814,\n",
              " 'simplicity': 815,\n",
              " 'sort': 816,\n",
              " 'specification': 817,\n",
              " 'success': 818,\n",
              " 'tiff': 819,\n",
              " 'tiff_philosophical': 820,\n",
              " 'trap': 821,\n",
              " 'unnecessary': 822,\n",
              " 'whenever': 823,\n",
              " 'word': 824,\n",
              " 'worried': 825,\n",
              " 'accident': 826,\n",
              " 'account': 827,\n",
              " 'additional': 828,\n",
              " 'age': 829,\n",
              " 'agent': 830,\n",
              " 'ago': 831,\n",
              " 'airbag': 832,\n",
              " 'alarm': 833,\n",
              " 'allstate': 834,\n",
              " 'amazing': 835,\n",
              " 'another_story': 836,\n",
              " 'anyway': 837,\n",
              " 'appeal': 838,\n",
              " 'apt': 839,\n",
              " 'auto': 840,\n",
              " 'bargain': 841,\n",
              " 'best': 842,\n",
              " 'book': 843,\n",
              " 'buying': 844,\n",
              " 'careful': 845,\n",
              " 'city': 846,\n",
              " 'claim': 847,\n",
              " 'clean': 848,\n",
              " 'close': 849,\n",
              " 'collision': 850,\n",
              " 'comprehensive': 851,\n",
              " 'conclude': 852,\n",
              " 'conservative': 853,\n",
              " 'continue': 854,\n",
              " 'coordinator': 855,\n",
              " 'correctly': 856,\n",
              " 'corvette': 857,\n",
              " 'couple': 858,\n",
              " 'cover': 859,\n",
              " 'coverage': 860,\n",
              " 'damn': 861,\n",
              " 'date': 862,\n",
              " 'dealer': 863,\n",
              " 'deductible': 864,\n",
              " 'deduction': 865,\n",
              " 'defensive': 866,\n",
              " 'discount': 867,\n",
              " 'distance': 868,\n",
              " 'doen': 869,\n",
              " 'driver': 870,\n",
              " 'driving': 871,\n",
              " 'engineer': 872,\n",
              " 'enough': 873,\n",
              " 'entitle': 874,\n",
              " 'equal': 875,\n",
              " 'escort': 876,\n",
              " 'eventually': 877,\n",
              " 'exotic': 878,\n",
              " 'farmer': 879,\n",
              " 'fiddle': 880,\n",
              " 'friend': 881,\n",
              " 'full': 882,\n",
              " 'gift': 883,\n",
              " 'glass': 884,\n",
              " 'handling': 885,\n",
              " 'hell': 886,\n",
              " 'high': 887,\n",
              " 'higher': 888,\n",
              " 'higher_rate': 889,\n",
              " 'house': 890,\n",
              " 'huge_difference': 891,\n",
              " 'imagination': 892,\n",
              " 'important': 893,\n",
              " 'impulse': 894,\n",
              " 'in': 895,\n",
              " 'incur': 896,\n",
              " 'inquiry': 897,\n",
              " 'insurance': 898,\n",
              " 'insurance_companie': 899,\n",
              " 'insurance_companies': 900,\n",
              " 'insure': 901,\n",
              " 'interested': 902,\n",
              " 'interesting': 903,\n",
              " 'intersection': 904,\n",
              " 'kind': 905,\n",
              " 'knock': 906,\n",
              " 'latech': 907,\n",
              " 'less': 908,\n",
              " 'liability': 909,\n",
              " 'license': 910,\n",
              " 'light': 911,\n",
              " 'like': 912,\n",
              " 'longer': 913,\n",
              " 'low': 914,\n",
              " 'lucky': 915,\n",
              " 'luxury': 916,\n",
              " 'maintain': 917,\n",
              " 'male': 918,\n",
              " 'mass': 919,\n",
              " 'mine': 920,\n",
              " 'month': 921,\n",
              " 'monthly': 922,\n",
              " 'mos': 923,\n",
              " 'mountain_view': 924,\n",
              " 'narrow': 925,\n",
              " 'nearby': 926,\n",
              " 'negligent': 927,\n",
              " 'newsreader_nnr': 928,\n",
              " 'oklahoma_law': 929,\n",
              " 'organization_louisiana': 930,\n",
              " 'own': 931,\n",
              " 'passive': 932,\n",
              " 'pay': 933,\n",
              " 'payment': 934,\n",
              " 'performance_car': 935,\n",
              " 'personal': 936,\n",
              " 'personally': 937,\n",
              " 'pickup': 938,\n",
              " 'place': 939,\n",
              " 'please_post': 940,\n",
              " 'policy': 941,\n",
              " 'porsche': 942,\n",
              " 'possible': 943,\n",
              " 'pressure': 944,\n",
              " 'probability': 945,\n",
              " 'protege': 946,\n",
              " 'quote': 947,\n",
              " 'radio': 948,\n",
              " 'ready': 949,\n",
              " 'remember': 950,\n",
              " 'renewal': 951,\n",
              " 'responsible': 952,\n",
              " 'restraint': 953,\n",
              " 'ridiculously': 954,\n",
              " 'rip': 955,\n",
              " 'risk': 956,\n",
              " 'room': 957,\n",
              " 'roughly': 958,\n",
              " 'runner': 959,\n",
              " 's': 960,\n",
              " 'safe': 961,\n",
              " 'salesman': 962,\n",
              " 'sc': 963,\n",
              " 'security': 964,\n",
              " 'serge': 965,\n",
              " 'seriously': 966,\n",
              " 'similar': 967,\n",
              " 'situation': 968,\n",
              " 'slight': 969,\n",
              " 'snob': 970,\n",
              " 'standardize': 971,\n",
              " 'stay': 972,\n",
              " 'stop': 973,\n",
              " 'strictly': 974,\n",
              " 'supra': 975,\n",
              " 'talon': 976,\n",
              " 'theft': 977,\n",
              " 'though': 978,\n",
              " 'thunderbird': 979,\n",
              " 'ticket': 980,\n",
              " 'tough': 981,\n",
              " 'towing': 982,\n",
              " 'town': 983,\n",
              " 'traditional': 984,\n",
              " 'turbo': 985,\n",
              " 'turn': 986,\n",
              " 'twin': 987,\n",
              " 'umbrella': 988,\n",
              " 'underwriter': 989,\n",
              " 'vijay': 990,\n",
              " 'violation': 991,\n",
              " 'wake': 992,\n",
              " 'wood': 993,\n",
              " 'yearly': 994,\n",
              " 'years_old': 995,\n",
              " 'yellow': 996,\n",
              " 'yrs': 997,\n",
              " 'accuracy': 998,\n",
              " 'amplifier': 999,\n",
              " ...}"
            ]
          },
          "execution_count": 102,
          "metadata": {},
          "output_type": "execute_result"
        }
      ],
      "source": [
        "# Create Dictionary\n",
        "#import gensim.corpora as corpora\n",
        "id2word = corpora.Dictionary(data_lemmatized)\n",
        "#chaque mot et son numero representant (index)\n",
        "id2word.token2id"
      ]
    },
    {
      "cell_type": "code",
      "execution_count": null,
      "metadata": {
        "colab": {
          "base_uri": "https://localhost:8080/"
        },
        "id": "O_-KyBfcHNTf",
        "outputId": "5919f663-7b1a-4ba4-fecf-a1cdba3bf64a"
      },
      "outputs": [
        {
          "name": "stdout",
          "output_type": "stream",
          "text": [
            "['poll', 'final', 'call', 'summary', 'final', 'call', 'report', 'keyword', 'acceleration', 'clock', 'fair', 'number', 'brave', 'soul', 'upgrade', 'oscillator', 'share', 'experience', 'please_send', 'brief', 'message', 'detail', 'experience', 'procedure', 'top', 'speed', 'attain', 'cpu', 'rate', 'speed', 'add', 'card', 'hour', 'usage', 'functionality', 'floppy', 'especially', 'request', 'summarize', 'add', 'network', 'knowledge', 'base', 'do', 'clock', 'answer', 'poll', 'thank']\n"
          ]
        },
        {
          "data": {
            "text/plain": [
              "[(4, 2),\n",
              " (33, 1),\n",
              " (37, 1),\n",
              " (38, 2),\n",
              " (39, 1),\n",
              " (40, 1),\n",
              " (41, 1),\n",
              " (42, 1),\n",
              " (43, 1),\n",
              " (44, 1),\n",
              " (45, 2),\n",
              " (46, 1),\n",
              " (47, 1),\n",
              " (48, 1),\n",
              " (49, 1),\n",
              " (50, 2),\n",
              " (51, 1),\n",
              " (52, 2),\n",
              " (53, 1),\n",
              " (54, 1),\n",
              " (55, 1),\n",
              " (56, 1),\n",
              " (57, 1),\n",
              " (58, 1),\n",
              " (59, 1),\n",
              " (60, 1),\n",
              " (61, 1),\n",
              " (62, 1),\n",
              " (63, 2),\n",
              " (64, 1),\n",
              " (65, 1),\n",
              " (66, 1),\n",
              " (67, 1),\n",
              " (68, 1),\n",
              " (69, 1),\n",
              " (70, 2),\n",
              " (71, 1),\n",
              " (72, 1),\n",
              " (73, 1),\n",
              " (74, 1),\n",
              " (75, 1)]"
            ]
          },
          "execution_count": 103,
          "metadata": {},
          "output_type": "execute_result"
        }
      ],
      "source": [
        "#représentation bag of word\n",
        "\n",
        "corpus = [id2word.doc2bow(text) for text in data_lemmatized]\n",
        "\n",
        "print(data_lemmatized[1])\n",
        "corpus[1]\n",
        "\n",
        "# Term Document Frequency\n",
        "#corpus = [id2word.doc2bow(text) for text in texts]\n",
        "\n",
        "# View\n",
        "#print(corpus[:1])"
      ]
    },
    {
      "cell_type": "markdown",
      "metadata": {
        "id": "M3IFJ7Y4pAfW"
      },
      "source": [
        "***Latent Semantic Indexing***\n",
        "L'idée principale de LSI est de mapper chaque document et term à un concept.\n",
        "\n",
        "Concept est un ensemble de terme avec leurs weights.\n",
        "\n",
        "Prenons l'exemple ci-dsseous \n",
        "\n",
        "![m1.PNG](data:image/png;base64,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)"
      ]
    },
    {
      "cell_type": "markdown",
      "metadata": {
        "id": "WHmxvhczrtei"
      },
      "source": [
        "Comme affiché sur la figure ci-dessus, LSI découpe notre premiere matrice en deux matrices : \n",
        "\n",
        "*   Term-concept matrix\n",
        "*   Document-concept matrix\n",
        "\n",
        "***Mais comment ça marche ?***\n",
        "\n",
        "\n",
        "---\n",
        "\n",
        "\n",
        "\n",
        "\n",
        "**1.   Normalisation ( avec tf-idf ou entropie)**\n",
        "\n",
        "**2.   Décomposition avec SVD**\n",
        "\n",
        "*SVD (Singular Value Decomposition)* décompose notre matrice initiale en trois matrices = (document x termes) * ( concepts x concepts) * (terms x concepts) \n",
        "\n",
        "**3. pproximation de la matrice Initiale sur k dimensions avec k = min(n,m)**\n",
        "\n",
        "*n : nombre des termes* , *m : nombre des documents*"
      ]
    },
    {
      "cell_type": "markdown",
      "metadata": {
        "id": "DXXQ83v-rKur"
      },
      "source": [
        ""
      ]
    },
    {
      "cell_type": "code",
      "execution_count": null,
      "metadata": {
        "colab": {
          "base_uri": "https://localhost:8080/"
        },
        "id": "iiiNoKF2SHhQ",
        "outputId": "2916a9dc-10f1-4542-88a8-4a48611030c9"
      },
      "outputs": [
        {
          "data": {
            "text/plain": [
              "list"
            ]
          },
          "execution_count": 114,
          "metadata": {},
          "output_type": "execute_result"
        }
      ],
      "source": [
        "type(corpus)"
      ]
    },
    {
      "cell_type": "code",
      "execution_count": null,
      "metadata": {
        "id": "UsSwDXeRI4PD"
      },
      "outputs": [],
      "source": [
        "from gensim.models import lsimodel"
      ]
    },
    {
      "cell_type": "code",
      "execution_count": null,
      "metadata": {
        "id": "CrJ5itTeK9wc"
      },
      "outputs": [],
      "source": [
        "lsi_model = gensim.models.lsimodel.LsiModel(corpus=corpus, id2word=id2word, num_topics=10,chunksize=100)"
      ]
    },
    {
      "cell_type": "markdown",
      "metadata": {
        "id": "McBNeqGXbDGY"
      },
      "source": [
        "On remarque que le nombre de topic peut etre inferieur de num_topics en raison de facteurs"
      ]
    },
    {
      "cell_type": "code",
      "execution_count": null,
      "metadata": {
        "colab": {
          "base_uri": "https://localhost:8080/"
        },
        "id": "h8RSjQrjKUO3",
        "outputId": "ddf02467-e9ca-46be-b2f3-dd0784767f49"
      },
      "outputs": [
        {
          "name": "stdout",
          "output_type": "stream",
          "text": [
            "[(0,\n",
            "  '1.000*\"ax_ax\" + 0.016*\"ax\" + 0.002*\"di_di\" + 0.001*\"bhjn\" + 0.001*\"wm_wm\" + '\n",
            "  '0.001*\"part\" + 0.001*\"eqtm\" + 0.001*\"would\" + 0.001*\"wwiz\" + '\n",
            "  '0.001*\"max_ax\"'),\n",
            " (1,\n",
            "  '0.282*\"say\" + 0.210*\"go\" + 0.189*\"know\" + 0.184*\"would\" + 0.176*\"people\" + '\n",
            "  '0.153*\"see\" + 0.147*\"get\" + 0.147*\"make\" + 0.144*\"may\" + 0.144*\"think\"'),\n",
            " (2,\n",
            "  '-0.370*\"say\" + 0.303*\"file\" + -0.246*\"go\" + 0.171*\"program\" + -0.171*\"know\" '\n",
            "  '+ 0.162*\"image\" + 0.161*\"available\" + 0.160*\"use\" + -0.145*\"people\" + '\n",
            "  '0.145*\"include\"')]\n"
          ]
        }
      ],
      "source": [
        "pprint(lsi_model.print_topics())\n",
        "doc_lsi = lsi_model[corpus]"
      ]
    },
    {
      "cell_type": "code",
      "execution_count": null,
      "metadata": {
        "colab": {
          "base_uri": "https://localhost:8080/"
        },
        "id": "NwnmskpsagG2",
        "outputId": "0b643e82-1eb0-4416-949f-e56355821d80"
      },
      "outputs": [
        {
          "data": {
            "text/plain": [
              "[('ax_ax', 0.9998613775796696),\n",
              " ('ax', 0.016398894039857486),\n",
              " ('di_di', 0.0015517990246140746),\n",
              " ('bhjn', 0.0007571349550297572),\n",
              " ('wm_wm', 0.0006930505807726678),\n",
              " ('part', 0.0005871946164274596),\n",
              " ('eqtm', 0.0005852600237436688),\n",
              " ('would', 0.0005711668144182901),\n",
              " ('wwiz', 0.000556993716243871),\n",
              " ('max_ax', 0.0005332924173272914)]"
            ]
          },
          "execution_count": 129,
          "metadata": {},
          "output_type": "execute_result"
        }
      ],
      "source": [
        "lsi_model.show_topic(0, topn=10)\n"
      ]
    },
    {
      "cell_type": "code",
      "execution_count": null,
      "metadata": {
        "colab": {
          "base_uri": "https://localhost:8080/",
          "height": 35
        },
        "id": "lukfbYfeaQSX",
        "outputId": "ff7a3cdc-4ad6-4d39-80bf-cbe2c0d0c561"
      },
      "outputs": [
        {
          "data": {
            "application/vnd.google.colaboratory.intrinsic+json": {
              "type": "string"
            },
            "text/plain": [
              "'0.283*\"say\" + 0.210*\"go\" + 0.189*\"know\" + 0.184*\"would\" + 0.176*\"people\"'"
            ]
          },
          "execution_count": 133,
          "metadata": {},
          "output_type": "execute_result"
        }
      ],
      "source": [
        "lsi_model.print_topic(1, topn=5)"
      ]
    },
    {
      "cell_type": "markdown",
      "source": [
        "*HDP MODEL texte en gras*"
      ],
      "metadata": {
        "id": "10embF-imn56"
      }
    },
    {
      "cell_type": "code",
      "execution_count": null,
      "metadata": {
        "colab": {
          "base_uri": "https://localhost:8080/"
        },
        "id": "Z-IBMKQKQeAk",
        "outputId": "b8e1f43e-ac71-464e-8493-b438e2b1da5c"
      },
      "outputs": [
        {
          "name": "stdout",
          "output_type": "stream",
          "text": [
            "[(0,\n",
            "  '0.008*would + 0.007*write + 0.007*say + 0.006*line + 0.006*know + '\n",
            "  '0.006*people + 0.005*get + 0.005*think + 0.005*go + 0.005*make'),\n",
            " (1,\n",
            "  '0.009*write + 0.009*line + 0.008*would + 0.006*get + 0.006*say + '\n",
            "  '0.006*think + 0.006*make + 0.006*know + 0.005*go + 0.005*people'),\n",
            " (2,\n",
            "  '0.661*ax_ax + 0.014*ax + 0.002*di_di + 0.001*wm_wm + 0.001*bhjn + '\n",
            "  '0.000*part + 0.000*wwiz + 0.000*eqtm + 0.000*would + 0.000*bxn_bxn'),\n",
            " (3,\n",
            "  '0.008*line + 0.007*write + 0.005*would + 0.004*article + 0.004*get + '\n",
            "  '0.004*make + 0.003*say + 0.003*people + 0.003*go + 0.003*work'),\n",
            " (4,\n",
            "  '0.005*line + 0.005*write + 0.004*would + 0.004*use + 0.003*get + 0.003*also '\n",
            "  '+ 0.003*think + 0.003*thank + 0.003*article + 0.003*window'),\n",
            " (5,\n",
            "  '0.004*line + 0.003*would + 0.003*say + 0.003*write + 0.003*get + '\n",
            "  '0.003*think + 0.002*make + 0.002*thank + 0.002*know + 0.002*go'),\n",
            " (6,\n",
            "  '0.003*line + 0.003*people + 0.003*would + 0.002*write + 0.002*know + '\n",
            "  '0.002*say + 0.002*think + 0.002*scorer_pt + 0.002*see + 0.002*may'),\n",
            " (7,\n",
            "  '0.002*line + 0.002*write + 0.002*use + 0.002*would + 0.002*also + 0.002*get '\n",
            "  '+ 0.002*make + 0.001*see + 0.001*word + 0.001*think'),\n",
            " (8,\n",
            "  '0.003*would + 0.002*line + 0.001*think + 0.001*write + 0.001*get + '\n",
            "  '0.001*thank + 0.001*believe + 0.001*say + 0.001*window + 0.001*time'),\n",
            " (9,\n",
            "  '0.002*line + 0.002*would + 0.002*want + 0.002*image + 0.001*get + '\n",
            "  '0.001*file + 0.001*also + 0.001*know + 0.001*disk + 0.001*otis'),\n",
            " (10,\n",
            "  '0.001*would + 0.001*launch + 0.001*mission + 0.001*go + 0.001*think + '\n",
            "  '0.001*line + 0.001*write + 0.001*probe + 0.001*make + 0.001*want'),\n",
            " (11,\n",
            "  '0.002*none + 0.002*land + 0.001*would + 0.001*kill + 0.001*write + '\n",
            "  '0.001*sell + 0.001*religion + 0.001*right + 0.001*people + 0.001*say'),\n",
            " (12,\n",
            "  '0.002*people + 0.001*write + 0.001*software + 0.001*get + 0.001*line + '\n",
            "  '0.001*depression + 0.001*think + 0.001*system + 0.001*engine + 0.001*tape'),\n",
            " (13,\n",
            "  '0.002*problem + 0.002*would + 0.002*say + 0.001*car + 0.001*know + 0.001*go '\n",
            "  '+ 0.001*work + 0.001*people + 0.001*old + 0.001*cost'),\n",
            " (14,\n",
            "  '0.002*write + 0.001*line + 0.001*problem + 0.001*say + 0.001*would + '\n",
            "  '0.001*article + 0.001*motif + 0.001*use + 0.001*think + 0.001*car'),\n",
            " (15,\n",
            "  '0.001*make + 0.001*line + 0.001*write + 0.001*know + 0.001*run + 0.001*say '\n",
            "  '+ 0.001*much + 0.001*string_key + 0.001*invade + 0.001*would'),\n",
            " (16,\n",
            "  '0.001*would + 0.001*get + 0.001*line + 0.001*know + 0.001*say + 0.001*go + '\n",
            "  '0.001*write + 0.001*hit + 0.001*time + 0.001*article'),\n",
            " (17,\n",
            "  '0.001*say + 0.001*line + 0.001*know + 0.001*would + 0.001*could + 0.001*go '\n",
            "  '+ 0.001*stauber + 0.001*energy + 0.001*try + 0.001*playoff'),\n",
            " (18,\n",
            "  '0.001*team + 0.001*game + 0.001*would + 0.001*think + 0.001*make + '\n",
            "  '0.001*line + 0.001*say + 0.001*play + 0.001*win + 0.001*write'),\n",
            " (19,\n",
            "  '0.001*write + 0.001*know + 0.001*think + 0.001*get + 0.001*say + '\n",
            "  '0.000*rider + 0.000*read + 0.000*see + 0.000*already + 0.000*bike')]\n"
          ]
        }
      ],
      "source": [
        "Hdp_model = gensim.models.hdpmodel.HdpModel(corpus=corpus, id2word=id2word)\n",
        "pprint(Hdp_model.print_topics())\n"
      ]
    },
    {
      "cell_type": "code",
      "execution_count": null,
      "metadata": {
        "id": "urWXF7V_QGu8"
      },
      "outputs": [],
      "source": [
        "Hdp_model = gensim.models.hdpmodel.HdpModel(corpus=corpus, id2word=id2word)\n"
      ]
    },
    {
      "cell_type": "markdown",
      "metadata": {
        "id": "MyusQ6TeQPfh"
      },
      "source": [
        "For implementing HDP in Gensim, we need to train corpus and dictionary (as did in the above examples while implementing LDA and LSI topic models) HDP topic model that we can import from gensim.models.HdpModel. Here also we will implement HDP topic model on 20Newsgroup data and the steps are also same.\n",
        "\n",
        "For our corpus and dictionary (created in above examples for LSI and LDA model), we can import HdpModel as follows −"
      ]
    },
    {
      "cell_type": "code",
      "execution_count": null,
      "metadata": {
        "colab": {
          "base_uri": "https://localhost:8080/"
        },
        "id": "KvOWEpMJQKO2",
        "outputId": "5a2449e5-e9a9-45b9-b7cb-9206b8632ec4"
      },
      "outputs": [
        {
          "name": "stdout",
          "output_type": "stream",
          "text": [
            "[(0,\n",
            "  '0.008*would + 0.007*write + 0.007*say + 0.007*line + 0.006*people + '\n",
            "  '0.006*know + 0.005*get + 0.005*think + 0.005*go + 0.005*make'),\n",
            " (1,\n",
            "  '0.010*line + 0.009*write + 0.007*would + 0.006*get + 0.005*know + '\n",
            "  '0.005*think + 0.005*say + 0.005*use + 0.005*go + 0.005*article'),\n",
            " (2,\n",
            "  '0.614*ax_ax + 0.013*ax + 0.002*di_di + 0.001*would + 0.001*line + '\n",
            "  '0.001*wm_wm + 0.001*get + 0.001*write + 0.001*part + 0.001*bhjn'),\n",
            " (3,\n",
            "  '0.007*line + 0.006*write + 0.005*would + 0.004*get + 0.004*say + 0.004*use '\n",
            "  '+ 0.003*know + 0.003*article + 0.003*time + 0.003*think'),\n",
            " (4,\n",
            "  '0.006*line + 0.005*write + 0.004*would + 0.004*say + 0.003*game + '\n",
            "  '0.003*know + 0.003*team + 0.003*go + 0.003*think + 0.003*get'),\n",
            " (5,\n",
            "  '0.006*line + 0.004*write + 0.004*would + 0.004*get + 0.003*know + 0.003*say '\n",
            "  '+ 0.003*thank + 0.002*problem + 0.002*need + 0.002*work'),\n",
            " (6,\n",
            "  '0.004*write + 0.004*line + 0.003*see + 0.003*get + 0.003*would + '\n",
            "  '0.003*think + 0.002*people + 0.002*come + 0.002*know + 0.002*use'),\n",
            " (7,\n",
            "  '0.004*good + 0.003*line + 0.003*write + 0.002*know + 0.002*excellent + '\n",
            "  '0.002*get + 0.002*think + 0.002*use + 0.001*may + 0.001*say'),\n",
            " (8,\n",
            "  '0.018*db_db + 0.008*would + 0.003*bit + 0.003*be + 0.001*call + 0.001*line '\n",
            "  '+ 0.001*byte + 0.001*ca + 0.001*low + 0.001*high'),\n",
            " (9,\n",
            "  '0.003*know + 0.002*belief + 0.002*think + 0.002*absolute + 0.002*may + '\n",
            "  '0.002*believe + 0.002*write + 0.001*say + 0.001*people + 0.001*truth'),\n",
            " (10,\n",
            "  '0.001*greek + 0.001*also + 0.001*kill + 0.001*shuttle + 0.001*side + '\n",
            "  '0.001*write + 0.001*say + 0.001*turkish + 0.001*know + 0.001*line'),\n",
            " (11,\n",
            "  '0.001*option + 0.001*people + 0.001*power + 0.001*line + 0.001*would + '\n",
            "  '0.001*think + 0.001*write + 0.001*support + 0.001*system + 0.001*also'),\n",
            " (12,\n",
            "  '0.002*write + 0.002*line + 0.002*would + 0.002*think + 0.001*see + '\n",
            "  '0.001*want + 0.001*people + 0.001*problem + 0.001*article + 0.001*find'),\n",
            " (13,\n",
            "  '0.002*line + 0.002*problem + 0.001*would + 0.001*say + 0.001*yeast + '\n",
            "  '0.001*find + 0.001*know + 0.001*point + 0.001*symptom + 0.001*give'),\n",
            " (14,\n",
            "  '0.002*line + 0.001*think + 0.001*get + 0.001*write + 0.001*make + 0.001*say '\n",
            "  '+ 0.001*would + 0.001*team + 0.001*game + 0.001*player'),\n",
            " (15,\n",
            "  '0.001*would + 0.001*mission + 0.001*launch + 0.001*double + 0.001*probe + '\n",
            "  '0.001*space + 0.001*exhaust + 0.001*make + 0.001*pressure + 0.001*intake'),\n",
            " (16,\n",
            "  '0.001*key + 0.001*know + 0.001*line + 0.001*write + 0.001*get + 0.001*thing '\n",
            "  '+ 0.001*could + 0.001*even + 0.001*organization + 0.001*think'),\n",
            " (17,\n",
            "  '0.001*use + 0.001*line + 0.001*religion + 0.001*would + 0.001*people + '\n",
            "  '0.001*write + 0.001*know + 0.001*sex + 0.000*cause + 0.000*work'),\n",
            " (18,\n",
            "  '0.001*lock + 0.001*woman + 0.001*pocket + 0.001*tower_assembly + '\n",
            "  '0.001*cable + 0.001*plastic + 0.001*steel + 0.001*key + 0.001*look + '\n",
            "  '0.001*write'),\n",
            " (19,\n",
            "  '0.002*would + 0.001*line + 0.001*write + 0.001*think + 0.001*key + '\n",
            "  '0.001*thing + 0.001*still + 0.001*try + 0.001*perhaps + 0.001*energy')]\n"
          ]
        }
      ],
      "source": [
        "pprint(Hdp_model.print_topics())\n"
      ]
    },
    {
      "cell_type": "markdown",
      "metadata": {
        "id": "KppXca56Q6y5"
      },
      "source": [
        "Comparaison entre LDA, LSI , HDP avec coherence score."
      ]
    },
    {
      "cell_type": "code",
      "execution_count": null,
      "metadata": {
        "id": "HkzYmmsSVYod"
      },
      "outputs": [],
      "source": [
        "from matplotlib import pyplot as plt\n",
        "from wordcloud import WordCloud, STOPWORDS\n",
        "import matplotlib.colors as mcolors\n",
        "\n",
        "cols = [color for name, color in mcolors.TABLEAU_COLORS.items()]  # more colors: 'mcolors.XKCD_COLORS'\n",
        "\n",
        "cloud = WordCloud(stopwords=stop_words,\n",
        "                  background_color='white',\n",
        "                  width=2500,\n",
        "                  height=1800,\n",
        "                  max_words=10,\n",
        "                  colormap='tab10',\n",
        "                  color_func=lambda *args, **kwargs: cols[i],\n",
        "                  prefer_horizontal=1.0)\n",
        "\n",
        "topics = lsi_model.show_topics(formatted=False)\n",
        "\n",
        "fig, axes = plt.subplots(2, 2, figsize=(10,10), sharex=True, sharey=True)\n",
        "\n",
        "for i, ax in enumerate(axes.flatten()):\n",
        "    fig.add_subplot(ax)\n",
        "    topic_words = dict(topics[i][1])\n",
        "    cloud.generate_from_frequencies(topic_words, max_font_size=300)\n",
        "    plt.gca().imshow(cloud)\n",
        "    plt.gca().set_title('Topic ' + str(i), fontdict=dict(size=16))\n",
        "    plt.gca().axis('off')\n",
        "\n",
        "\n",
        "plt.subplots_adjust(wspace=0, hspace=0)\n",
        "plt.axis('off')\n",
        "plt.margins(x=0, y=0)\n",
        "plt.tight_layout()\n",
        "plt.show()\n"
      ]
    },
    {
      "cell_type": "code",
      "execution_count": null,
      "metadata": {
        "colab": {
          "base_uri": "https://localhost:8080/"
        },
        "id": "CqHBh7qyRDtV",
        "outputId": "600113f9-a24b-4ff0-a245-897b881a5e87"
      },
      "outputs": [
        {
          "name": "stdout",
          "output_type": "stream",
          "text": [
            "\n",
            "Coherence Score HDP:  0.5065726502187723\n",
            "\n",
            "Coherence Score LSI:  0.5010136939333293\n",
            "\n",
            "Coherence Score LD:  0.5010136939333293\n"
          ]
        }
      ],
      "source": [
        "# Compute Coherence Score\n",
        "coherence_model_Hdp = CoherenceModel(model=Hdp_model, texts=data_lemmatized, dictionary=id2word, coherence='c_v')\n",
        "coherence_Hdp = coherence_model_Hdp.get_coherence()\n",
        "print('\\nCoherence Score HDP: ', coherence_Hdp)\n",
        "\n",
        "# Compute Coherence Score\n",
        "coherence_model_lsi = CoherenceModel(model=lsi_model, texts=data_lemmatized, dictionary=id2word, coherence='c_v')\n",
        "coherence_lsi = coherence_model_lsi.get_coherence()\n",
        "print('\\nCoherence Score LSI: ', coherence_lsi)\n",
        "\n",
        "coherense_lda = 0.47609472603340575\n",
        "print('\\nCoherence Score LDA : ', coherence_lda)"
      ]
    },
    {
      "cell_type": "code",
      "execution_count": null,
      "metadata": {
        "id": "gqCyn8ffSIv9"
      },
      "outputs": [],
      "source": [
        "from collections import Counter\n",
        "topics = lsi_model.show_topics(formatted=False)\n",
        "data_flat = [w for w_list in data_lemmatized for w in w_list]\n",
        "counter = Counter(data_flat)\n",
        "\n",
        "out = []\n",
        "for i, topic in topics:\n",
        "    for word, weight in topic:\n",
        "        out.append([word, i , weight, counter[word]])\n",
        "\n",
        "df = pd.DataFrame(out, columns=['word', 'topic_id', 'importance', 'word_count'])        \n",
        "\n",
        "# Plot Word Count and Weights of Topic Keywords\n",
        "fig, axes = plt.subplots(2, 2, figsize=(16,10), sharey=True, dpi=160)\n",
        "cols = [color for name, color in mcolors.TABLEAU_COLORS.items()]\n",
        "for i, ax in enumerate(axes.flatten()):\n",
        "    ax.bar(x='word', height=\"word_count\", data=df.loc[df.topic_id==i, :], color=cols[i], width=0.5, alpha=0.3, label='Word Count')\n",
        "    ax_twin = ax.twinx()\n",
        "    ax_twin.bar(x='word', height=\"importance\", data=df.loc[df.topic_id==i, :], color=cols[i], width=0.2, label='Weights')\n",
        "    ax.set_ylabel('Word Count', color=cols[i])\n",
        "    ax_twin.set_ylim(0, 0.030); ax.set_ylim(0, 3500)\n",
        "    ax.set_title('Topic: ' + str(i), color=cols[i], fontsize=16)\n",
        "    ax.tick_params(axis='y', left=False)\n",
        "    ax.set_xticklabels(df.loc[df.topic_id==i, 'word'], rotation=30, horizontalalignment= 'right')\n",
        "    ax.legend(loc='upper left'); ax_twin.legend(loc='upper right')\n",
        "\n",
        "fig.tight_layout(w_pad=2)    \n",
        "fig.suptitle('Word Count and Importance of Topic Keywords', fontsize=22, y=1.05)    \n",
        "plt.show()"
      ]
    },
    {
      "cell_type": "markdown",
      "metadata": {
        "id": "CC5f8Y2aZMhJ"
      },
      "source": [
        "Affiner le modéle avec tf-idf"
      ]
    },
    {
      "cell_type": "code",
      "execution_count": null,
      "metadata": {
        "id": "Avw4PwMQZLPw"
      },
      "outputs": [],
      "source": [
        "from gensim import models\n",
        "\n",
        "tfidf = models.TfidfModel(corpus)\n"
      ]
    },
    {
      "cell_type": "code",
      "execution_count": null,
      "metadata": {
        "colab": {
          "background_save": true
        },
        "id": "AMQSU-ENkjA5"
      },
      "outputs": [],
      "source": [
        "corpus_tfidf = tfidf[corpus]\n",
        "for doc in corpus_tfidf:\n",
        "    print(doc)"
      ]
    },
    {
      "cell_type": "code",
      "source": [
        "lsi_model2 = models.LsiModel(corpus_tfidf, id2word=id2word, num_topics=2)  # initialize an LSI transformation with tfi_idf\n",
        "corpus_lsi = lsi_model2[corpus_tfidf] "
      ],
      "metadata": {
        "id": "TMP1PpoJldsQ"
      },
      "execution_count": null,
      "outputs": []
    },
    {
      "cell_type": "code",
      "source": [
        "Hdp_model2 = gensim.models.hdpmodel.HdpModel(corpus_tfidf, id2word=id2word)  # initialize an HDP transformation with tf_idf\n",
        "corpus_Hdp = Hdp_model2[corpus_tfidf] \n"
      ],
      "metadata": {
        "id": "4IOA67oBmLTb"
      },
      "execution_count": null,
      "outputs": []
    },
    {
      "cell_type": "code",
      "source": [
        "# Compute Coherence Score HDP\n",
        "coherence_model_Hdp = CoherenceModel(model=Hdp_model, texts=data_lemmatized, dictionary=id2word, coherence='c_v')\n",
        "coherence_Hdp = coherence_model_Hdp.get_coherence()\n",
        "print('\\nCoherence Score HDP2: ', coherence_Hdp)\n",
        "\n",
        "# Compute Coherence Score LSI\n",
        "coherence_model_lsi = CoherenceModel(model=lsi_model, texts=data_lemmatized, dictionary=id2word, coherence='c_v')\n",
        "coherence_lsi = coherence_model_lsi.get_coherence()\n",
        "print('\\nCoherence Score LSI2: ', coherence_lsi)\n",
        "\n",
        "coherense_lda = 0.47609472603340575\n",
        "coherense_lda2 = 0.33362071419709394\n",
        "\n",
        "print('\\nCoherence Score LDA: ', coherense_lda)\n",
        "print('\\nCoherence Score LDA2: ',coherense_lda2)"
      ],
      "metadata": {
        "colab": {
          "base_uri": "https://localhost:8080/"
        },
        "id": "MYpJYA_qoKcB",
        "outputId": "1efcfa4c-d96d-479d-8cee-f015647c8a10"
      },
      "execution_count": null,
      "outputs": [
        {
          "output_type": "stream",
          "name": "stdout",
          "text": [
            "\n",
            "Coherence Score HDP2:  0.6532286488542107\n",
            "\n",
            "Coherence Score LSI2:  0.3963227928981352\n",
            "\n",
            "Coherence Score LDA:  0.47609472603340575\n",
            "\n",
            "Coherence Score LDA2:  0.33362071419709394\n"
          ]
        }
      ]
    }
  ],
  "metadata": {
    "colab": {
      "collapsed_sections": [],
      "name": "TP7 Ikrame Ettiache.ipynb",
      "provenance": [],
      "authorship_tag": "ABX9TyP6c4pzLD4CfEuY0GycLpEh",
      "include_colab_link": true
    },
    "kernelspec": {
      "display_name": "Python 3",
      "name": "python3"
    },
    "language_info": {
      "name": "python"
    }
  },
  "nbformat": 4,
  "nbformat_minor": 0
}
