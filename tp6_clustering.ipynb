{
  "cells": [
    {
      "cell_type": "markdown",
      "metadata": {
        "id": "view-in-github",
        "colab_type": "text"
      },
      "source": [
        "<a href=\"https://colab.research.google.com/github/Ikramettiache/Tp-TextMining/blob/main/tp6_clustering.ipynb\" target=\"_parent\"><img src=\"https://colab.research.google.com/assets/colab-badge.svg\" alt=\"Open In Colab\"/></a>"
      ]
    },
    {
      "cell_type": "markdown",
      "metadata": {
        "id": "r1PVjG8SDu6Q"
      },
      "source": [
        "# Clustering with Scikit Learn"
      ]
    },
    {
      "cell_type": "markdown",
      "metadata": {
        "id": "meKpvTuFDu6U"
      },
      "source": [
        "We will be working on a dataset of contemporary books.\n",
        "\n",
        "You will be building a classifier for author.\n",
        "\n",
        "The dataset contains three classes : Margaret Atwood, Stephen King, and John Grisham."
      ]
    },
    {
      "cell_type": "markdown",
      "metadata": {
        "id": "LQL4JL_6Du6W"
      },
      "source": [
        "### Load the data\n",
        "\n",
        "Use the following lines to load the data. The data is already pre-processed."
      ]
    },
    {
      "cell_type": "code",
      "execution_count": null,
      "metadata": {
        "id": "aPsZgKHQDu6X"
      },
      "outputs": [],
      "source": [
        "import pandas as pd\n",
        "#path = 'data/'\n",
        "#data = pd.read_csv(path + 'contemporary.csv', encoding='utf-8').set_index('book')\n",
        "data = pd.read_csv('contemporary.csv', encoding='utf-8').set_index('book')\n",
        "data\n",
        "info = pd.read_csv('contemporary_labels.csv', encoding='utf-8')"
      ]
    },
    {
      "cell_type": "markdown",
      "metadata": {
        "id": "qy1HQ7hADu6Z"
      },
      "source": [
        "**Q1**: Show the code to display the five first lines of each dataframe."
      ]
    },
    {
      "cell_type": "code",
      "execution_count": null,
      "metadata": {
        "colab": {
          "base_uri": "https://localhost:8080/",
          "height": 331
        },
        "id": "V7FinIGWDu6a",
        "outputId": "4a4ab0d6-0064-44bb-8e85-2b44bd101478"
      },
      "outputs": [
        {
          "output_type": "execute_result",
          "data": {
            "text/plain": [
              "                    aback  abagail  abandon  abandoned  abandoning  \\\n",
              "book                                                                 \n",
              "mdp.39015005028686    1.0     12.0      2.0        6.0         0.0   \n",
              "mdp.39015010763418    1.0      0.0      0.0        6.0         1.0   \n",
              "mdp.39015027242315    4.0      0.0      0.0        5.0         0.0   \n",
              "mdp.39015029244657    0.0      0.0      0.0        2.0         0.0   \n",
              "mdp.39015031703609    0.0      0.0      0.0        7.0         1.0   \n",
              "\n",
              "                    abandonment  abducted  aberrations  abilities  ability  \\\n",
              "book                                                                         \n",
              "mdp.39015005028686          0.0       0.0          0.0        0.0      8.0   \n",
              "mdp.39015010763418          0.0       0.0          0.0        0.0      4.0   \n",
              "mdp.39015027242315          0.0       0.0          0.0        3.0      1.0   \n",
              "mdp.39015029244657          0.0       0.0          0.0        0.0      0.0   \n",
              "mdp.39015031703609          0.0       0.0          0.0        1.0      4.0   \n",
              "\n",
              "                    ...  zipper  zippered  zippers  zipping  zombie  zombies  \\\n",
              "book                ...                                                        \n",
              "mdp.39015005028686  ...     5.0       1.0      0.0      4.0     1.0      0.0   \n",
              "mdp.39015010763418  ...     1.0       1.0      1.0      0.0     0.0      0.0   \n",
              "mdp.39015027242315  ...     1.0       0.0      0.0      0.0     1.0      0.0   \n",
              "mdp.39015029244657  ...     0.0       0.0      0.0      0.0     0.0      0.0   \n",
              "mdp.39015031703609  ...     0.0       0.0      1.0      2.0     0.0      0.0   \n",
              "\n",
              "                    zone  zones  zoning  zoo  \n",
              "book                                          \n",
              "mdp.39015005028686  32.0    0.0     0.0  5.0  \n",
              "mdp.39015010763418   0.0    0.0     0.0  0.0  \n",
              "mdp.39015027242315   2.0    1.0     0.0  0.0  \n",
              "mdp.39015029244657   4.0    0.0     1.0  1.0  \n",
              "mdp.39015031703609   1.0    0.0     1.0  3.0  \n",
              "\n",
              "[5 rows x 17570 columns]"
            ],
            "text/html": [
              "\n",
              "  <div id=\"df-9d45cd8d-db36-4700-b69f-dd6cab3db684\">\n",
              "    <div class=\"colab-df-container\">\n",
              "      <div>\n",
              "<style scoped>\n",
              "    .dataframe tbody tr th:only-of-type {\n",
              "        vertical-align: middle;\n",
              "    }\n",
              "\n",
              "    .dataframe tbody tr th {\n",
              "        vertical-align: top;\n",
              "    }\n",
              "\n",
              "    .dataframe thead th {\n",
              "        text-align: right;\n",
              "    }\n",
              "</style>\n",
              "<table border=\"1\" class=\"dataframe\">\n",
              "  <thead>\n",
              "    <tr style=\"text-align: right;\">\n",
              "      <th></th>\n",
              "      <th>aback</th>\n",
              "      <th>abagail</th>\n",
              "      <th>abandon</th>\n",
              "      <th>abandoned</th>\n",
              "      <th>abandoning</th>\n",
              "      <th>abandonment</th>\n",
              "      <th>abducted</th>\n",
              "      <th>aberrations</th>\n",
              "      <th>abilities</th>\n",
              "      <th>ability</th>\n",
              "      <th>...</th>\n",
              "      <th>zipper</th>\n",
              "      <th>zippered</th>\n",
              "      <th>zippers</th>\n",
              "      <th>zipping</th>\n",
              "      <th>zombie</th>\n",
              "      <th>zombies</th>\n",
              "      <th>zone</th>\n",
              "      <th>zones</th>\n",
              "      <th>zoning</th>\n",
              "      <th>zoo</th>\n",
              "    </tr>\n",
              "    <tr>\n",
              "      <th>book</th>\n",
              "      <th></th>\n",
              "      <th></th>\n",
              "      <th></th>\n",
              "      <th></th>\n",
              "      <th></th>\n",
              "      <th></th>\n",
              "      <th></th>\n",
              "      <th></th>\n",
              "      <th></th>\n",
              "      <th></th>\n",
              "      <th></th>\n",
              "      <th></th>\n",
              "      <th></th>\n",
              "      <th></th>\n",
              "      <th></th>\n",
              "      <th></th>\n",
              "      <th></th>\n",
              "      <th></th>\n",
              "      <th></th>\n",
              "      <th></th>\n",
              "      <th></th>\n",
              "    </tr>\n",
              "  </thead>\n",
              "  <tbody>\n",
              "    <tr>\n",
              "      <th>mdp.39015005028686</th>\n",
              "      <td>1.0</td>\n",
              "      <td>12.0</td>\n",
              "      <td>2.0</td>\n",
              "      <td>6.0</td>\n",
              "      <td>0.0</td>\n",
              "      <td>0.0</td>\n",
              "      <td>0.0</td>\n",
              "      <td>0.0</td>\n",
              "      <td>0.0</td>\n",
              "      <td>8.0</td>\n",
              "      <td>...</td>\n",
              "      <td>5.0</td>\n",
              "      <td>1.0</td>\n",
              "      <td>0.0</td>\n",
              "      <td>4.0</td>\n",
              "      <td>1.0</td>\n",
              "      <td>0.0</td>\n",
              "      <td>32.0</td>\n",
              "      <td>0.0</td>\n",
              "      <td>0.0</td>\n",
              "      <td>5.0</td>\n",
              "    </tr>\n",
              "    <tr>\n",
              "      <th>mdp.39015010763418</th>\n",
              "      <td>1.0</td>\n",
              "      <td>0.0</td>\n",
              "      <td>0.0</td>\n",
              "      <td>6.0</td>\n",
              "      <td>1.0</td>\n",
              "      <td>0.0</td>\n",
              "      <td>0.0</td>\n",
              "      <td>0.0</td>\n",
              "      <td>0.0</td>\n",
              "      <td>4.0</td>\n",
              "      <td>...</td>\n",
              "      <td>1.0</td>\n",
              "      <td>1.0</td>\n",
              "      <td>1.0</td>\n",
              "      <td>0.0</td>\n",
              "      <td>0.0</td>\n",
              "      <td>0.0</td>\n",
              "      <td>0.0</td>\n",
              "      <td>0.0</td>\n",
              "      <td>0.0</td>\n",
              "      <td>0.0</td>\n",
              "    </tr>\n",
              "    <tr>\n",
              "      <th>mdp.39015027242315</th>\n",
              "      <td>4.0</td>\n",
              "      <td>0.0</td>\n",
              "      <td>0.0</td>\n",
              "      <td>5.0</td>\n",
              "      <td>0.0</td>\n",
              "      <td>0.0</td>\n",
              "      <td>0.0</td>\n",
              "      <td>0.0</td>\n",
              "      <td>3.0</td>\n",
              "      <td>1.0</td>\n",
              "      <td>...</td>\n",
              "      <td>1.0</td>\n",
              "      <td>0.0</td>\n",
              "      <td>0.0</td>\n",
              "      <td>0.0</td>\n",
              "      <td>1.0</td>\n",
              "      <td>0.0</td>\n",
              "      <td>2.0</td>\n",
              "      <td>1.0</td>\n",
              "      <td>0.0</td>\n",
              "      <td>0.0</td>\n",
              "    </tr>\n",
              "    <tr>\n",
              "      <th>mdp.39015029244657</th>\n",
              "      <td>0.0</td>\n",
              "      <td>0.0</td>\n",
              "      <td>0.0</td>\n",
              "      <td>2.0</td>\n",
              "      <td>0.0</td>\n",
              "      <td>0.0</td>\n",
              "      <td>0.0</td>\n",
              "      <td>0.0</td>\n",
              "      <td>0.0</td>\n",
              "      <td>0.0</td>\n",
              "      <td>...</td>\n",
              "      <td>0.0</td>\n",
              "      <td>0.0</td>\n",
              "      <td>0.0</td>\n",
              "      <td>0.0</td>\n",
              "      <td>0.0</td>\n",
              "      <td>0.0</td>\n",
              "      <td>4.0</td>\n",
              "      <td>0.0</td>\n",
              "      <td>1.0</td>\n",
              "      <td>1.0</td>\n",
              "    </tr>\n",
              "    <tr>\n",
              "      <th>mdp.39015031703609</th>\n",
              "      <td>0.0</td>\n",
              "      <td>0.0</td>\n",
              "      <td>0.0</td>\n",
              "      <td>7.0</td>\n",
              "      <td>1.0</td>\n",
              "      <td>0.0</td>\n",
              "      <td>0.0</td>\n",
              "      <td>0.0</td>\n",
              "      <td>1.0</td>\n",
              "      <td>4.0</td>\n",
              "      <td>...</td>\n",
              "      <td>0.0</td>\n",
              "      <td>0.0</td>\n",
              "      <td>1.0</td>\n",
              "      <td>2.0</td>\n",
              "      <td>0.0</td>\n",
              "      <td>0.0</td>\n",
              "      <td>1.0</td>\n",
              "      <td>0.0</td>\n",
              "      <td>1.0</td>\n",
              "      <td>3.0</td>\n",
              "    </tr>\n",
              "  </tbody>\n",
              "</table>\n",
              "<p>5 rows × 17570 columns</p>\n",
              "</div>\n",
              "      <button class=\"colab-df-convert\" onclick=\"convertToInteractive('df-9d45cd8d-db36-4700-b69f-dd6cab3db684')\"\n",
              "              title=\"Convert this dataframe to an interactive table.\"\n",
              "              style=\"display:none;\">\n",
              "        \n",
              "  <svg xmlns=\"http://www.w3.org/2000/svg\" height=\"24px\"viewBox=\"0 0 24 24\"\n",
              "       width=\"24px\">\n",
              "    <path d=\"M0 0h24v24H0V0z\" fill=\"none\"/>\n",
              "    <path d=\"M18.56 5.44l.94 2.06.94-2.06 2.06-.94-2.06-.94-.94-2.06-.94 2.06-2.06.94zm-11 1L8.5 8.5l.94-2.06 2.06-.94-2.06-.94L8.5 2.5l-.94 2.06-2.06.94zm10 10l.94 2.06.94-2.06 2.06-.94-2.06-.94-.94-2.06-.94 2.06-2.06.94z\"/><path d=\"M17.41 7.96l-1.37-1.37c-.4-.4-.92-.59-1.43-.59-.52 0-1.04.2-1.43.59L10.3 9.45l-7.72 7.72c-.78.78-.78 2.05 0 2.83L4 21.41c.39.39.9.59 1.41.59.51 0 1.02-.2 1.41-.59l7.78-7.78 2.81-2.81c.8-.78.8-2.07 0-2.86zM5.41 20L4 18.59l7.72-7.72 1.47 1.35L5.41 20z\"/>\n",
              "  </svg>\n",
              "      </button>\n",
              "      \n",
              "  <style>\n",
              "    .colab-df-container {\n",
              "      display:flex;\n",
              "      flex-wrap:wrap;\n",
              "      gap: 12px;\n",
              "    }\n",
              "\n",
              "    .colab-df-convert {\n",
              "      background-color: #E8F0FE;\n",
              "      border: none;\n",
              "      border-radius: 50%;\n",
              "      cursor: pointer;\n",
              "      display: none;\n",
              "      fill: #1967D2;\n",
              "      height: 32px;\n",
              "      padding: 0 0 0 0;\n",
              "      width: 32px;\n",
              "    }\n",
              "\n",
              "    .colab-df-convert:hover {\n",
              "      background-color: #E2EBFA;\n",
              "      box-shadow: 0px 1px 2px rgba(60, 64, 67, 0.3), 0px 1px 3px 1px rgba(60, 64, 67, 0.15);\n",
              "      fill: #174EA6;\n",
              "    }\n",
              "\n",
              "    [theme=dark] .colab-df-convert {\n",
              "      background-color: #3B4455;\n",
              "      fill: #D2E3FC;\n",
              "    }\n",
              "\n",
              "    [theme=dark] .colab-df-convert:hover {\n",
              "      background-color: #434B5C;\n",
              "      box-shadow: 0px 1px 3px 1px rgba(0, 0, 0, 0.15);\n",
              "      filter: drop-shadow(0px 1px 2px rgba(0, 0, 0, 0.3));\n",
              "      fill: #FFFFFF;\n",
              "    }\n",
              "  </style>\n",
              "\n",
              "      <script>\n",
              "        const buttonEl =\n",
              "          document.querySelector('#df-9d45cd8d-db36-4700-b69f-dd6cab3db684 button.colab-df-convert');\n",
              "        buttonEl.style.display =\n",
              "          google.colab.kernel.accessAllowed ? 'block' : 'none';\n",
              "\n",
              "        async function convertToInteractive(key) {\n",
              "          const element = document.querySelector('#df-9d45cd8d-db36-4700-b69f-dd6cab3db684');\n",
              "          const dataTable =\n",
              "            await google.colab.kernel.invokeFunction('convertToInteractive',\n",
              "                                                     [key], {});\n",
              "          if (!dataTable) return;\n",
              "\n",
              "          const docLinkHtml = 'Like what you see? Visit the ' +\n",
              "            '<a target=\"_blank\" href=https://colab.research.google.com/notebooks/data_table.ipynb>data table notebook</a>'\n",
              "            + ' to learn more about interactive tables.';\n",
              "          element.innerHTML = '';\n",
              "          dataTable['output_type'] = 'display_data';\n",
              "          await google.colab.output.renderOutput(dataTable, element);\n",
              "          const docLink = document.createElement('div');\n",
              "          docLink.innerHTML = docLinkHtml;\n",
              "          element.appendChild(docLink);\n",
              "        }\n",
              "      </script>\n",
              "    </div>\n",
              "  </div>\n",
              "  "
            ]
          },
          "metadata": {},
          "execution_count": 7
        }
      ],
      "source": [
        "# Your code here for 'data'\n",
        "data[:5]"
      ]
    },
    {
      "cell_type": "code",
      "execution_count": null,
      "metadata": {
        "scrolled": true,
        "colab": {
          "base_uri": "https://localhost:8080/",
          "height": 206
        },
        "id": "Sdh9wbHQDu6b",
        "outputId": "67115d65-d094-4863-9c1f-681bd2666e11"
      },
      "outputs": [
        {
          "output_type": "execute_result",
          "data": {
            "text/plain": [
              "                 book   author              title\n",
              "0  mdp.39015005028686     King          The stand\n",
              "1  mdp.39015010763418   Atwood       Lady oracle;\n",
              "2  mdp.39015027242315   Atwood   The robber bride\n",
              "3  mdp.39015029244657  Grisham  The pelican brief\n",
              "4  mdp.39015031703609  Grisham      The rainmaker"
            ],
            "text/html": [
              "\n",
              "  <div id=\"df-43137eb0-0c8c-44a0-aca7-37d9d3725717\">\n",
              "    <div class=\"colab-df-container\">\n",
              "      <div>\n",
              "<style scoped>\n",
              "    .dataframe tbody tr th:only-of-type {\n",
              "        vertical-align: middle;\n",
              "    }\n",
              "\n",
              "    .dataframe tbody tr th {\n",
              "        vertical-align: top;\n",
              "    }\n",
              "\n",
              "    .dataframe thead th {\n",
              "        text-align: right;\n",
              "    }\n",
              "</style>\n",
              "<table border=\"1\" class=\"dataframe\">\n",
              "  <thead>\n",
              "    <tr style=\"text-align: right;\">\n",
              "      <th></th>\n",
              "      <th>book</th>\n",
              "      <th>author</th>\n",
              "      <th>title</th>\n",
              "    </tr>\n",
              "  </thead>\n",
              "  <tbody>\n",
              "    <tr>\n",
              "      <th>0</th>\n",
              "      <td>mdp.39015005028686</td>\n",
              "      <td>King</td>\n",
              "      <td>The stand</td>\n",
              "    </tr>\n",
              "    <tr>\n",
              "      <th>1</th>\n",
              "      <td>mdp.39015010763418</td>\n",
              "      <td>Atwood</td>\n",
              "      <td>Lady oracle;</td>\n",
              "    </tr>\n",
              "    <tr>\n",
              "      <th>2</th>\n",
              "      <td>mdp.39015027242315</td>\n",
              "      <td>Atwood</td>\n",
              "      <td>The robber bride</td>\n",
              "    </tr>\n",
              "    <tr>\n",
              "      <th>3</th>\n",
              "      <td>mdp.39015029244657</td>\n",
              "      <td>Grisham</td>\n",
              "      <td>The pelican brief</td>\n",
              "    </tr>\n",
              "    <tr>\n",
              "      <th>4</th>\n",
              "      <td>mdp.39015031703609</td>\n",
              "      <td>Grisham</td>\n",
              "      <td>The rainmaker</td>\n",
              "    </tr>\n",
              "  </tbody>\n",
              "</table>\n",
              "</div>\n",
              "      <button class=\"colab-df-convert\" onclick=\"convertToInteractive('df-43137eb0-0c8c-44a0-aca7-37d9d3725717')\"\n",
              "              title=\"Convert this dataframe to an interactive table.\"\n",
              "              style=\"display:none;\">\n",
              "        \n",
              "  <svg xmlns=\"http://www.w3.org/2000/svg\" height=\"24px\"viewBox=\"0 0 24 24\"\n",
              "       width=\"24px\">\n",
              "    <path d=\"M0 0h24v24H0V0z\" fill=\"none\"/>\n",
              "    <path d=\"M18.56 5.44l.94 2.06.94-2.06 2.06-.94-2.06-.94-.94-2.06-.94 2.06-2.06.94zm-11 1L8.5 8.5l.94-2.06 2.06-.94-2.06-.94L8.5 2.5l-.94 2.06-2.06.94zm10 10l.94 2.06.94-2.06 2.06-.94-2.06-.94-.94-2.06-.94 2.06-2.06.94z\"/><path d=\"M17.41 7.96l-1.37-1.37c-.4-.4-.92-.59-1.43-.59-.52 0-1.04.2-1.43.59L10.3 9.45l-7.72 7.72c-.78.78-.78 2.05 0 2.83L4 21.41c.39.39.9.59 1.41.59.51 0 1.02-.2 1.41-.59l7.78-7.78 2.81-2.81c.8-.78.8-2.07 0-2.86zM5.41 20L4 18.59l7.72-7.72 1.47 1.35L5.41 20z\"/>\n",
              "  </svg>\n",
              "      </button>\n",
              "      \n",
              "  <style>\n",
              "    .colab-df-container {\n",
              "      display:flex;\n",
              "      flex-wrap:wrap;\n",
              "      gap: 12px;\n",
              "    }\n",
              "\n",
              "    .colab-df-convert {\n",
              "      background-color: #E8F0FE;\n",
              "      border: none;\n",
              "      border-radius: 50%;\n",
              "      cursor: pointer;\n",
              "      display: none;\n",
              "      fill: #1967D2;\n",
              "      height: 32px;\n",
              "      padding: 0 0 0 0;\n",
              "      width: 32px;\n",
              "    }\n",
              "\n",
              "    .colab-df-convert:hover {\n",
              "      background-color: #E2EBFA;\n",
              "      box-shadow: 0px 1px 2px rgba(60, 64, 67, 0.3), 0px 1px 3px 1px rgba(60, 64, 67, 0.15);\n",
              "      fill: #174EA6;\n",
              "    }\n",
              "\n",
              "    [theme=dark] .colab-df-convert {\n",
              "      background-color: #3B4455;\n",
              "      fill: #D2E3FC;\n",
              "    }\n",
              "\n",
              "    [theme=dark] .colab-df-convert:hover {\n",
              "      background-color: #434B5C;\n",
              "      box-shadow: 0px 1px 3px 1px rgba(0, 0, 0, 0.15);\n",
              "      filter: drop-shadow(0px 1px 2px rgba(0, 0, 0, 0.3));\n",
              "      fill: #FFFFFF;\n",
              "    }\n",
              "  </style>\n",
              "\n",
              "      <script>\n",
              "        const buttonEl =\n",
              "          document.querySelector('#df-43137eb0-0c8c-44a0-aca7-37d9d3725717 button.colab-df-convert');\n",
              "        buttonEl.style.display =\n",
              "          google.colab.kernel.accessAllowed ? 'block' : 'none';\n",
              "\n",
              "        async function convertToInteractive(key) {\n",
              "          const element = document.querySelector('#df-43137eb0-0c8c-44a0-aca7-37d9d3725717');\n",
              "          const dataTable =\n",
              "            await google.colab.kernel.invokeFunction('convertToInteractive',\n",
              "                                                     [key], {});\n",
              "          if (!dataTable) return;\n",
              "\n",
              "          const docLinkHtml = 'Like what you see? Visit the ' +\n",
              "            '<a target=\"_blank\" href=https://colab.research.google.com/notebooks/data_table.ipynb>data table notebook</a>'\n",
              "            + ' to learn more about interactive tables.';\n",
              "          element.innerHTML = '';\n",
              "          dataTable['output_type'] = 'display_data';\n",
              "          await google.colab.output.renderOutput(dataTable, element);\n",
              "          const docLink = document.createElement('div');\n",
              "          docLink.innerHTML = docLinkHtml;\n",
              "          element.appendChild(docLink);\n",
              "        }\n",
              "      </script>\n",
              "    </div>\n",
              "  </div>\n",
              "  "
            ]
          },
          "metadata": {},
          "execution_count": 8
        }
      ],
      "source": [
        "# Your code here for 'info'\n",
        "info[:5]"
      ]
    },
    {
      "cell_type": "markdown",
      "metadata": {
        "id": "DZ4djpTWDu6c"
      },
      "source": [
        "**Q2**: Show the code to split the data and truth labels into a test and train dataset, using the first fifteen books for training."
      ]
    },
    {
      "cell_type": "code",
      "execution_count": null,
      "metadata": {
        "id": "9m6cCUxcDu6d"
      },
      "outputs": [],
      "source": [
        "# Your code here\n",
        "train_data = ...\n",
        "train_labels = ...\n",
        "test_data = ...\n",
        "test_labels = ..."
      ]
    },
    {
      "cell_type": "markdown",
      "metadata": {
        "id": "F4pwy6kEDu6f"
      },
      "source": [
        "### Clustering \n",
        "\n",
        "To cluster in Scikit Learn, you need the same type of data as in classification: a set of vectors with term counts, one vector per document.\n",
        "\n",
        "However, clustering is usually done when you don't know a real set of classes, so you do not supply labels.\n",
        "\n",
        "Here is how you might learn a set of clusters with K-Means from the Atwood/Grisham/King data that we already have loaded:"
      ]
    },
    {
      "cell_type": "code",
      "execution_count": null,
      "metadata": {
        "id": "HS77dUuTDu6h"
      },
      "outputs": [],
      "source": [
        "from sklearn.cluster import KMeans\n",
        "kmeans = KMeans(n_clusters=3, random_state=0).fit(data)"
      ]
    },
    {
      "cell_type": "markdown",
      "metadata": {
        "id": "IvlJJhU-Du6h"
      },
      "source": [
        "The cluster groups that were assigned are available from `kmeans.labels_`:"
      ]
    },
    {
      "cell_type": "code",
      "execution_count": null,
      "metadata": {
        "id": "QAWyWJDRDu6k"
      },
      "outputs": [],
      "source": [
        "kmeans.labels_"
      ]
    },
    {
      "cell_type": "markdown",
      "metadata": {
        "id": "sO3BFE5VDu6l"
      },
      "source": [
        "Remember that K-Means starts with a random initialization and can get stuck in different configurations, so your groups may not be identical.\n",
        "\n",
        "**Q3**: You want to view the cluster groups alongside the information for the books that are held in info. Show the code to add a `group` column to `info`, set to the kmeans label information, and to sort the values by that column. It will look something like this: \n",
        "\n",
        "![](data/images/group-column.png)"
      ]
    },
    {
      "cell_type": "code",
      "execution_count": null,
      "metadata": {
        "id": "QwLw3SWjDu6m"
      },
      "outputs": [],
      "source": [
        "# Your code here"
      ]
    },
    {
      "cell_type": "markdown",
      "metadata": {
        "id": "I9TyzB5jDu6m"
      },
      "source": [
        "In my K-Means clustering for 3 groups, I ended up with one group that only had one book: *The Stand*.\n",
        "\n",
        "This makes sense, because *The Stand* is loooong, and I'm using raw term frequencies. So, every word will show up a lot more, not because that word is more prominant in that book, but because there are some many more words being used overall. On a graph, *The Stand* would float far afield of all the other books.\n",
        "\n",
        "We already learned how to correct raw frequency counts: our old friend tf-idf! We learned about softened the scaling of counts (sublinear tf) and weighing words relative to their prevalence in the language (idf). Scikit Learn offers both of those under `sklearn.feature_extraction.text.TfidfTransformer`."
      ]
    },
    {
      "cell_type": "markdown",
      "metadata": {
        "id": "HZVVgw2FDu6n"
      },
      "source": [
        "**Q4**: Using the documentation for TfidfTransformer (and maybe help from your classmates), determine how to transform the document-term data used above, with both sublinear tf scaling and inverse-document-frequency. Share your code.\n",
        "\n",
        "Hint: if you did it right, the value for the first word of the first document for your new variable (i.e. `data_tfidf[0,0]`) should be around `0.0063`."
      ]
    },
    {
      "cell_type": "code",
      "execution_count": null,
      "metadata": {
        "id": "z5-i9Q42Du6v"
      },
      "outputs": [],
      "source": [
        "# Your code here\n",
        "from sklearn.feature_extraction.text import TfidfTransformer\n",
        "data_tfidf = ...\n",
        "\n",
        "# It is possible to fit and transform separately, or you can us fit_transform"
      ]
    },
    {
      "cell_type": "code",
      "execution_count": null,
      "metadata": {
        "id": "Yxh8qDGEDu6w"
      },
      "outputs": [],
      "source": [
        "# Double check: should give 0.0063 for data_tfidf[0,0]\n",
        "data_tfidf.toarray()"
      ]
    },
    {
      "cell_type": "markdown",
      "metadata": {
        "id": "xwB9HOGYDu6x"
      },
      "source": [
        "**Q5**: Try clustering on the tf-idf transformed data, using the same `n_clusters=3` k-means options as before. How do the results look different? (tip, the sorting from *Q3* might help you look at the data)."
      ]
    },
    {
      "cell_type": "code",
      "execution_count": null,
      "metadata": {
        "id": "FKHqZBzaDu6y"
      },
      "outputs": [],
      "source": [
        "# Your code here\n",
        "\n",
        "# Your comment here"
      ]
    },
    {
      "cell_type": "markdown",
      "metadata": {
        "id": "OsGVkew5Du6y"
      },
      "source": [
        "So far we have tested clustering around known information, but the useful part of unsupervised learning is in finding new patterns. What if you cluster into two clusters? 20? What patterns do we see?\n",
        "\n",
        "**Q6**: Cluster data_tfidf to 2 clusters and describe how the books cluster."
      ]
    },
    {
      "cell_type": "code",
      "execution_count": null,
      "metadata": {
        "id": "4yxIWlxHDu6z"
      },
      "outputs": [],
      "source": [
        "# Your code here\n",
        "\n",
        "# Your comment here"
      ]
    },
    {
      "cell_type": "markdown",
      "metadata": {
        "id": "76yl5eDfDu6z"
      },
      "source": [
        "## More Techniques\n",
        "\n",
        "### An easier to interpret classifier: decision tree\n",
        "\n",
        "Here is an example of a decision tree classifier, which identifies discriminatory features out of the larger set, and uses those features to make the important classification decisions."
      ]
    },
    {
      "cell_type": "code",
      "execution_count": null,
      "metadata": {
        "id": "dKthQnezDu60"
      },
      "outputs": [],
      "source": [
        "from sklearn import tree\n",
        "clf = tree.DecisionTreeClassifier()\n",
        "clf = clf.fit(data, info['author'])"
      ]
    },
    {
      "cell_type": "markdown",
      "metadata": {
        "id": "LeoNjQgHDu60"
      },
      "source": [
        "Visualization is trickier because you need to install a separate library; details can be found in the Scikit Learn docs. Here is an example of what a decision tree might look like:\n",
        "\n",
        "![](data/images/decisiontree.png)\n",
        "\n",
        "(This tree was trained with the arguments `splitter='random', criterion='entropy', min_samples_split=0.5`.)"
      ]
    },
    {
      "cell_type": "markdown",
      "metadata": {
        "id": "qJdlwDqxDu61"
      },
      "source": [
        "This example uses all of the data, because we're not testing it on anything, but it is possible to use in the same way as earlier classifiers, with `clf.fit(train_data)` and `clf.predict(test_data)`.\n",
        "\n",
        "Decision Trees are easy to interpret, but tend to be most interesting for tasks with many classes but few features. For text mining, we usually have really large feature sets, because each word in our vocabulary is a feature.\n",
        "\n",
        "Here is a non-text example that was trained on the survival of Titanic passengers."
      ]
    },
    {
      "cell_type": "code",
      "execution_count": null,
      "metadata": {
        "scrolled": false,
        "id": "97Ci0VdXDu61"
      },
      "outputs": [],
      "source": [
        "df = pd.read_csv('http://vincentarelbundock.github.io/Rdatasets/csv/datasets/Titanic.csv', na_values='*').dropna()\n",
        "# Make the passenger class column numeric (e.g. 1,2,3) instead of strings (e.g. '1st', '2nd', '3rd')\n",
        "df['PClass'] = df['PClass'].apply(lambda x: float(x[0]))\n",
        "\n",
        "clf = tree.DecisionTreeClassifier()\n",
        "clf = clf.fit(df[['PClass', 'Age', 'SexCode']], df['Survived'])"
      ]
    },
    {
      "cell_type": "markdown",
      "metadata": {
        "id": "WsJ2ArACDu61"
      },
      "source": [
        "The decision tree for this classifier is [posted as a PDF](data/images/titanic.pdf). Reading from the top:\n",
        "\n",
        "- By default, assume that the passenger didn't survive.\n",
        "- The most important indicator of survival is gender. If the gender is '0' (Male), assume the person died, else assume they survived.\n",
        "- Amongst men, Age <= 12 was an indicator of survival. Amongst women, the most important next differentior was whether they were in first class (survived) or third (did not survive).\n",
        "\n",
        "And so on. The zoomed out view shows the grimness: men on left, women on right, dark orange is likely non-survival while dark blue is likely survival.\n",
        "\n",
        "![](data/images/titanic-zoomed-out.png)"
      ]
    },
    {
      "cell_type": "markdown",
      "metadata": {
        "id": "9hRQP5azDu62"
      },
      "source": [
        "### Agglomerative Clustering\n",
        "\n",
        "Here is an example of agglomerative cluster - 'bottom-up' clustering:"
      ]
    },
    {
      "cell_type": "code",
      "execution_count": null,
      "metadata": {
        "id": "sSIaDWcMDu62"
      },
      "outputs": [],
      "source": [
        "%matplotlib inline\n",
        "from sklearn.cluster import AgglomerativeClustering\n",
        "from scipy.cluster.hierarchy import dendrogram, linkage\n",
        "\n",
        "# Learn clusters\n",
        "model = AgglomerativeClustering()\n",
        "model = model.fit(data_tfidf.toarray())\n",
        "\n",
        "# Visualize the clusters\n",
        "Z = linkage(model.children_)\n",
        "graph = dendrogram(Z, orientation='right', labels=info['title'].values)"
      ]
    },
    {
      "cell_type": "markdown",
      "metadata": {
        "id": "WhJfhvKbDu63"
      },
      "source": [
        "![](data/images/dendrogram-clusters.png)\n",
        "\n",
        "These clusters are visualized using a dendrogram. The lines connect similar books or clusters, and the depth of the lines shows how similar those two nodes are. For example the cluster of _Cujo_ and _Dance macabre_ is very dissimilar from the cluster of all the other books, which is why the blue line extends so far to the right when connecting them.\n",
        "\n"
      ]
    },
    {
      "cell_type": "code",
      "execution_count": null,
      "metadata": {
        "id": "fReb4lysDu63"
      },
      "outputs": [],
      "source": [
        ""
      ]
    }
  ],
  "metadata": {
    "kernelspec": {
      "display_name": "Python 3 (ipykernel)",
      "language": "python",
      "name": "python3"
    },
    "language_info": {
      "codemirror_mode": {
        "name": "ipython",
        "version": 3
      },
      "file_extension": ".py",
      "mimetype": "text/x-python",
      "name": "python",
      "nbconvert_exporter": "python",
      "pygments_lexer": "ipython3",
      "version": "3.9.7"
    },
    "colab": {
      "name": "tp6-clustering.ipynb",
      "provenance": [],
      "include_colab_link": true
    }
  },
  "nbformat": 4,
  "nbformat_minor": 0
}