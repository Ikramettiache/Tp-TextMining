{
  "nbformat": 4,
  "nbformat_minor": 0,
  "metadata": {
    "colab": {
      "name": "Tp2 IKRAME ETTIACHE MEHDI BALBALI .ipynb",
      "provenance": [],
      "authorship_tag": "ABX9TyNgHu4+Euw4+izT0yTqVTpa",
      "include_colab_link": true
    },
    "kernelspec": {
      "name": "python3",
      "display_name": "Python 3"
    },
    "language_info": {
      "name": "python"
    }
  },
  "cells": [
    {
      "cell_type": "markdown",
      "metadata": {
        "id": "view-in-github",
        "colab_type": "text"
      },
      "source": [
        "<a href=\"https://colab.research.google.com/github/Ikramettiache/Tp-TextMining/blob/main/Tp2_IKRAME_ETTIACHE_MEHDI_BALBALI_.ipynb\" target=\"_parent\"><img src=\"https://colab.research.google.com/assets/colab-badge.svg\" alt=\"Open In Colab\"/></a>"
      ]
    },
    {
      "cell_type": "markdown",
      "metadata": {
        "id": "LnaKkR9qHyez"
      },
      "source": [
        "# TP2 – Fouille de texte - Ikrame Ettiache - Mehdi Balbali\n",
        "\n",
        "\n",
        "**Manipuler du texte :**\n",
        "\n",
        "\n",
        "Considérer le texte suivant :\n",
        "\n",
        "« UK (23 Apr 2020): Social distancing does not directly tackle the coronavirus but it keeps it \n",
        "away from the public and buys time to develop other methods of tackling the virus, as \n",
        "indicated by the National Health Service boss James Brown. Slowing down the transmission \n",
        "rate is a very important part of flattening the curve and ensuring the NHS isn't overwhelmed \n",
        "at any one point. »"
      ]
    },
    {
      "cell_type": "code",
      "source": [
        "import nltk\n",
        "import matplotlib\n",
        "from collections import Counter\n",
        "import re"
      ],
      "metadata": {
        "id": "Ylke3opVpJXb"
      },
      "execution_count": null,
      "outputs": []
    },
    {
      "cell_type": "markdown",
      "metadata": {
        "id": "ekEuUZQgf3LM"
      },
      "source": [
        "#### 1- Initialiser une variable text1 avec le texte ci-dessus. Combien de caractères dans text1 ? combien de mots ?"
      ]
    },
    {
      "cell_type": "code",
      "source": [
        "#Initialisation text1 \n",
        "text1 = \"UK (23 Apr 2020): Social distancing does not directly tackle the coronavirus but it keeps it away from the public and buys time to develop other methods of tackling the virus, as indicated by the National Health Service boss James Brown.\\\n",
        " Slowing down the transmission rate is a very important part of flattening the curve and ensuring the NHS isn't overwhelmed at any one point. \"\n",
        "#Nombre de caractéres \n",
        "print('Nombre de caractéres dans text1 = ',Counter(text1))\n",
        "#print('Nombre de caractéres dans text1',count(text1))\n",
        "print('Nombre de mots dans text1 = ',len(text1.split(' ')), 'mots')\n",
        "print('La longueur de text1 = ',len(text1))\n",
        "fdist2 = nltk.FreqDist(text1)\n",
        "# Cette courbe nous montre le nombre de fois les mots les plus fréquents sont utilisés.\n",
        "fdist2.plot(50, cumulative=True)"
      ],
      "metadata": {
        "colab": {
          "base_uri": "https://localhost:8080/",
          "height": 354
        },
        "id": "MoeXCa7xgwqS",
        "outputId": "9d39ff02-93f3-43a5-e180-e76faec215ae"
      },
      "execution_count": null,
      "outputs": [
        {
          "output_type": "stream",
          "name": "stdout",
          "text": [
            "Nombre de caractéres dans text1 =  Counter({' ': 65, 't': 32, 'e': 31, 'i': 24, 'a': 23, 'n': 23, 'o': 22, 'r': 17, 's': 17, 'l': 11, 'd': 11, 'h': 11, 'c': 10, 'p': 7, 'v': 7, 'u': 7, 'm': 7, 'y': 6, 'g': 5, 'b': 5, 'w': 5, 'S': 4, 'f': 4, '2': 3, 'k': 3, '0': 2, 'N': 2, 'H': 2, '.': 2, 'U': 1, 'K': 1, '(': 1, '3': 1, 'A': 1, ')': 1, ':': 1, ',': 1, 'J': 1, 'B': 1, \"'\": 1})\n",
            "Nombre de mots dans text1 =  66 mots\n",
            "La longueur de text1 =  379\n"
          ]
        },
        {
          "output_type": "display_data",
          "data": {
            "image/png": "[encoded data removed]",
            "text/plain": [
              "<Figure size 432x288 with 1 Axes>"
            ]
          },
          "metadata": {
            "needs_background": "light"
          }
        }
      ]
    },
    {
      "cell_type": "markdown",
      "metadata": {
        "id": "nGoq8YoUunRi"
      },
      "source": [
        "#### 2 - Chercher les mots de longueur > 3, les mots qui commencent par une majuscule, les mots qui se terminent avec ‘s’"
      ]
    },
    {
      "cell_type": "code",
      "source": [
        "#On peut utiliser -1 comme on peut utiliser token.endswith('s')\n",
        "sorted([token for token in set(text1.split(' ')) if len(token) > 3 and token[0].istitle() and token[-1]=='s'])"
      ],
      "metadata": {
        "colab": {
          "base_uri": "https://localhost:8080/"
        },
        "id": "3FrKgvQ0qiuZ",
        "outputId": "ed2cb40b-173e-4f75-8cec-b161cba7376b"
      },
      "execution_count": null,
      "outputs": [
        {
          "output_type": "execute_result",
          "data": {
            "text/plain": [
              "['James']"
            ]
          },
          "metadata": {},
          "execution_count": 16
        }
      ]
    },
    {
      "cell_type": "markdown",
      "source": [
        "#### 3- Combien de mots uniques existent dans le texte. Afficher l’ensemble de ces mots.\n"
      ],
      "metadata": {
        "id": "zHR5i6a2r5Qn"
      }
    },
    {
      "cell_type": "code",
      "source": [
        "# On utlise set qui affiche des valeurs uniques\n",
        "len(set(text1.split(' ')))"
      ],
      "metadata": {
        "colab": {
          "base_uri": "https://localhost:8080/"
        },
        "id": "cr7dnn8DqPav",
        "outputId": "2ef8c118-b863-4b3c-f3b0-93d31695263b"
      },
      "execution_count": null,
      "outputs": [
        {
          "output_type": "execute_result",
          "data": {
            "text/plain": [
              "57"
            ]
          },
          "metadata": {},
          "execution_count": 17
        }
      ]
    },
    {
      "cell_type": "markdown",
      "source": [
        "#### 4- Compter les mots uniques sans prendre en compte les caractères majuscules. \n",
        "#### Afficher cet ensemble"
      ],
      "metadata": {
        "id": "9q5dHosDsa_U"
      }
    },
    {
      "cell_type": "code",
      "source": [
        "print('taille des mots uniques',len([w for w in set(text1.lower())]))\n",
        "set(text1.lower())"
      ],
      "metadata": {
        "id": "msgZe4dksi44"
      },
      "execution_count": null,
      "outputs": []
    },
    {
      "cell_type": "code",
      "source": [
        "print('Taille des mots uniques sans prendre en compte les majuscules ',len(set(text1.lower().split(' '))))"
      ],
      "metadata": {
        "colab": {
          "base_uri": "https://localhost:8080/"
        },
        "id": "xlfSs7NgXnck",
        "outputId": "d82db873-e8b3-47cb-e6bf-a8c8eb02937d"
      },
      "execution_count": null,
      "outputs": [
        {
          "output_type": "stream",
          "name": "stdout",
          "text": [
            "taille des mots uniques sans prendre en compte les majuscules  57\n"
          ]
        }
      ]
    },
    {
      "cell_type": "markdown",
      "metadata": {
        "id": "FejbQGrct4CD"
      },
      "source": [
        "\n",
        "\n",
        "**Exercice 2 :**\n",
        "\n",
        "Considérer le texte suivant :\n",
        "\n",
        "«  #OpenQuestions for @You_Ask Start asking your questions now for tomorrow’s LIVE \n",
        "Q&A on careers you can do without going to university: http://t.co/rJd5UxKI4n Write to us \n",
        "contact@careers.tt #CareersQA - Guardian Careers ( @GuardianCareers ) August 27, 2013 »"
      ]
    },
    {
      "cell_type": "markdown",
      "source": [
        "#### 5 - Initialiser une variable text2 avec le texte du tweet bruité (contenant des ‘@’, ‘#’, ‘_’, ‘/’, etc)."
      ],
      "metadata": {
        "id": "3ZC_o8skub9X"
      }
    },
    {
      "cell_type": "code",
      "source": [
        "text2=\"#OpenQuestions for @You_Ask Start asking your questions now for tomorrow's LIVE Q&A on careers you can do without going to university: http://t.co/rJd5UxKI4n Write to us contact@careers.tt #CareersQA - Guardian Careers ( @GuardianCareers ) August 27, 2013\"\n",
        "text2"
      ],
      "metadata": {
        "colab": {
          "base_uri": "https://localhost:8080/",
          "height": 54
        },
        "id": "dwpMf7IzubWK",
        "outputId": "387e908c-6cc3-4ba2-a17a-3d216d0bb08e"
      },
      "execution_count": null,
      "outputs": [
        {
          "output_type": "execute_result",
          "data": {
            "application/vnd.google.colaboratory.intrinsic+json": {
              "type": "string"
            },
            "text/plain": [
              "\"#OpenQuestions for @You_Ask Start asking your questions now for tomorrow's LIVE Q&A on careers you can do without going to university: http://t.co/rJd5UxKI4n Write to us contact@careers.tt #CareersQA - Guardian Careers ( @GuardianCareers ) August 27, 2013\""
            ]
          },
          "metadata": {},
          "execution_count": 20
        }
      ]
    },
    {
      "cell_type": "markdown",
      "source": [
        "#### 6- Trouver les hashtags (#xxx) dans le texte. Trouver les callouts (@xxx)."
      ],
      "metadata": {
        "id": "Z5pXOCxuu0Ln"
      }
    },
    {
      "cell_type": "code",
      "source": [
        "#Trouver les mots qui commencent par #\n",
        "print('Liste des mots qui comment par # ',re.findall('#\\w+',text2))\n",
        "#Trouver les mots qui commencent par @\n",
        "print('Liste des mots qui comment par @ ',re.findall('@\\w+',text2))"
      ],
      "metadata": {
        "colab": {
          "base_uri": "https://localhost:8080/"
        },
        "id": "2fu1mYq0u8xu",
        "outputId": "e0c2c118-7ca2-4bbc-b31e-bd8fc3c00411"
      },
      "execution_count": null,
      "outputs": [
        {
          "output_type": "stream",
          "name": "stdout",
          "text": [
            "Liste des mots qui comment par #  ['#OpenQuestions', '#CareersQA']\n",
            "Liste des mots qui comment par @  ['@You_Ask', '@careers', '@GuardianCareers']\n"
          ]
        }
      ]
    },
    {
      "cell_type": "markdown",
      "metadata": {
        "id": "Ga6zV-38Jk5g"
      },
      "source": [
        "---\n",
        "---\n",
        "***Remarque !***\n",
        "\n",
        "---\n",
        "---\n",
        "### Merci pour votre attention\n",
        "---"
      ]
    }
  ]
}